{
 "cells": [
  {
   "cell_type": "markdown",
   "metadata": {},
   "source": [
    "# Importing Libraries and Reading Data "
   ]
  },
  {
   "cell_type": "code",
   "execution_count": 240,
   "metadata": {},
   "outputs": [],
   "source": [
    "import pandas as pd\n",
    "import re\n",
    "import numpy as np\n",
    "import seaborn as sns\n",
    "import matplotlib.pyplot as plt\n",
    "\n",
    "pd.set_option(\"display.max_rows\",None)\n",
    "pd.set_option(\"display.max_columns\",None)\n",
    "pd.set_option('display.max_colwidth',None)\n",
    "pd.set_option('display.float_format', lambda x: '%.1f' % x)\n",
    "from tqdm import tqdm\n",
    "\n",
    "import scipy.stats as stats\n",
    "import plotly.express as px\n",
    "from plotly.offline import iplot\n",
    "import plotly.figure_factory as ff\n",
    "\n",
    "import warnings\n",
    "warnings.filterwarnings('ignore')\n",
    "\n"
   ]
  },
  {
   "cell_type": "code",
   "execution_count": 3,
   "metadata": {},
   "outputs": [
    {
     "name": "stdout",
     "output_type": "stream",
     "text": [
      "(250, 17)\n",
      "Index(['Name', 'Year', 'Month', 'duration', 'Cast', 'Director', 'Users',\n",
      "       'Production', 'Genre', 'Budget', 'US_Canada_Collection',\n",
      "       'Weekend_Collection', 'Worlwide_Collection', 'Meta_Score',\n",
      "       'Origin_Currency_Symbol', 'Rating', 'origin_country'],\n",
      "      dtype='object')\n"
     ]
    },
    {
     "data": {
      "text/html": [
       "<div>\n",
       "<style scoped>\n",
       "    .dataframe tbody tr th:only-of-type {\n",
       "        vertical-align: middle;\n",
       "    }\n",
       "\n",
       "    .dataframe tbody tr th {\n",
       "        vertical-align: top;\n",
       "    }\n",
       "\n",
       "    .dataframe thead th {\n",
       "        text-align: right;\n",
       "    }\n",
       "</style>\n",
       "<table border=\"1\" class=\"dataframe\">\n",
       "  <thead>\n",
       "    <tr style=\"text-align: right;\">\n",
       "      <th></th>\n",
       "      <th>Name</th>\n",
       "      <th>Year</th>\n",
       "      <th>Month</th>\n",
       "      <th>duration</th>\n",
       "      <th>Cast</th>\n",
       "      <th>Director</th>\n",
       "      <th>Users</th>\n",
       "      <th>Production</th>\n",
       "      <th>Genre</th>\n",
       "      <th>Budget</th>\n",
       "      <th>US_Canada_Collection</th>\n",
       "      <th>Weekend_Collection</th>\n",
       "      <th>Worlwide_Collection</th>\n",
       "      <th>Meta_Score</th>\n",
       "      <th>Origin_Currency_Symbol</th>\n",
       "      <th>Rating</th>\n",
       "      <th>origin_country</th>\n",
       "    </tr>\n",
       "  </thead>\n",
       "  <tbody>\n",
       "    <tr>\n",
       "      <th>0</th>\n",
       "      <td>The Shawshank Redemption</td>\n",
       "      <td>1994</td>\n",
       "      <td>10</td>\n",
       "      <td>142</td>\n",
       "      <td>Tim Robbins, Morgan Freeman</td>\n",
       "      <td>Frank Darabont</td>\n",
       "      <td>2647119</td>\n",
       "      <td>Castle Rock Entertainment</td>\n",
       "      <td>Drama</td>\n",
       "      <td>25000000.0</td>\n",
       "      <td>28767189.0</td>\n",
       "      <td>727327.0</td>\n",
       "      <td>28884504.0</td>\n",
       "      <td>81.0</td>\n",
       "      <td>$25,000,000 (estimated)</td>\n",
       "      <td>9.2</td>\n",
       "      <td>['United States']</td>\n",
       "    </tr>\n",
       "    <tr>\n",
       "      <th>1</th>\n",
       "      <td>The Godfather</td>\n",
       "      <td>1972</td>\n",
       "      <td>3</td>\n",
       "      <td>175</td>\n",
       "      <td>Marlon Brando, Al Pacino</td>\n",
       "      <td>Francis Ford Coppola</td>\n",
       "      <td>1834912</td>\n",
       "      <td>Paramount Pictures</td>\n",
       "      <td>Crime</td>\n",
       "      <td>6000000.0</td>\n",
       "      <td>136381073.0</td>\n",
       "      <td>302393.0</td>\n",
       "      <td>250341816.0</td>\n",
       "      <td>100.0</td>\n",
       "      <td>$6,000,000 (estimated)</td>\n",
       "      <td>9.2</td>\n",
       "      <td>['United States']</td>\n",
       "    </tr>\n",
       "    <tr>\n",
       "      <th>2</th>\n",
       "      <td>The Dark Knight</td>\n",
       "      <td>2008</td>\n",
       "      <td>7</td>\n",
       "      <td>152</td>\n",
       "      <td>Christian Bale, Heath Ledger</td>\n",
       "      <td>Christopher Nolan</td>\n",
       "      <td>2619064</td>\n",
       "      <td>Warner Bros.</td>\n",
       "      <td>Action</td>\n",
       "      <td>185000000.0</td>\n",
       "      <td>534987076.0</td>\n",
       "      <td>158411483.0</td>\n",
       "      <td>1006234167.0</td>\n",
       "      <td>84.0</td>\n",
       "      <td>$185,000,000 (estimated)</td>\n",
       "      <td>9.0</td>\n",
       "      <td>['United States', 'United Kingdom']</td>\n",
       "    </tr>\n",
       "    <tr>\n",
       "      <th>3</th>\n",
       "      <td>The Godfather Part II</td>\n",
       "      <td>1974</td>\n",
       "      <td>12</td>\n",
       "      <td>202</td>\n",
       "      <td>Al Pacino, Robert De Niro</td>\n",
       "      <td>Francis Ford Coppola</td>\n",
       "      <td>1257549</td>\n",
       "      <td>Paramount Pictures</td>\n",
       "      <td>Crime</td>\n",
       "      <td>13000000.0</td>\n",
       "      <td>47834595.0</td>\n",
       "      <td>171417.0</td>\n",
       "      <td>47961919.0</td>\n",
       "      <td>90.0</td>\n",
       "      <td>$13,000,000 (estimated)</td>\n",
       "      <td>9.0</td>\n",
       "      <td>['United States']</td>\n",
       "    </tr>\n",
       "    <tr>\n",
       "      <th>4</th>\n",
       "      <td>12 Angry Men</td>\n",
       "      <td>1957</td>\n",
       "      <td>4</td>\n",
       "      <td>96</td>\n",
       "      <td>Henry Fonda, Lee J. Cobb</td>\n",
       "      <td>Sidney Lumet</td>\n",
       "      <td>781551</td>\n",
       "      <td>Orion-Nova Productions</td>\n",
       "      <td>Crime</td>\n",
       "      <td>350000.0</td>\n",
       "      <td>nan</td>\n",
       "      <td>nan</td>\n",
       "      <td>955.0</td>\n",
       "      <td>96.0</td>\n",
       "      <td>$350,000 (estimated)</td>\n",
       "      <td>8.9</td>\n",
       "      <td>['United States']</td>\n",
       "    </tr>\n",
       "  </tbody>\n",
       "</table>\n",
       "</div>"
      ],
      "text/plain": [
       "                       Name  Year  Month  duration  \\\n",
       "0  The Shawshank Redemption  1994     10       142   \n",
       "1             The Godfather  1972      3       175   \n",
       "2           The Dark Knight  2008      7       152   \n",
       "3     The Godfather Part II  1974     12       202   \n",
       "4              12 Angry Men  1957      4        96   \n",
       "\n",
       "                           Cast              Director    Users  \\\n",
       "0   Tim Robbins, Morgan Freeman        Frank Darabont  2647119   \n",
       "1      Marlon Brando, Al Pacino  Francis Ford Coppola  1834912   \n",
       "2  Christian Bale, Heath Ledger     Christopher Nolan  2619064   \n",
       "3     Al Pacino, Robert De Niro  Francis Ford Coppola  1257549   \n",
       "4      Henry Fonda, Lee J. Cobb          Sidney Lumet   781551   \n",
       "\n",
       "                  Production   Genre      Budget  US_Canada_Collection  \\\n",
       "0  Castle Rock Entertainment   Drama  25000000.0            28767189.0   \n",
       "1         Paramount Pictures   Crime   6000000.0           136381073.0   \n",
       "2               Warner Bros.  Action 185000000.0           534987076.0   \n",
       "3         Paramount Pictures   Crime  13000000.0            47834595.0   \n",
       "4     Orion-Nova Productions   Crime    350000.0                   nan   \n",
       "\n",
       "   Weekend_Collection  Worlwide_Collection  Meta_Score  \\\n",
       "0            727327.0           28884504.0        81.0   \n",
       "1            302393.0          250341816.0       100.0   \n",
       "2         158411483.0         1006234167.0        84.0   \n",
       "3            171417.0           47961919.0        90.0   \n",
       "4                 nan                955.0        96.0   \n",
       "\n",
       "     Origin_Currency_Symbol  Rating                       origin_country  \n",
       "0   $25,000,000 (estimated)     9.2                    ['United States']  \n",
       "1    $6,000,000 (estimated)     9.2                    ['United States']  \n",
       "2  $185,000,000 (estimated)     9.0  ['United States', 'United Kingdom']  \n",
       "3   $13,000,000 (estimated)     9.0                    ['United States']  \n",
       "4      $350,000 (estimated)     8.9                    ['United States']  "
      ]
     },
     "metadata": {},
     "output_type": "display_data"
    }
   ],
   "source": [
    "df = pd.read_excel (r'250_IMDB_modified.xlsx')\n",
    "print(df.shape)\n",
    "print(df.columns)\n",
    "display(df.head())"
   ]
  },
  {
   "cell_type": "markdown",
   "metadata": {},
   "source": [
    "# Cleaning and Feature Engineering"
   ]
  },
  {
   "cell_type": "markdown",
   "metadata": {},
   "source": [
    "###  Making Budget to the same Scale"
   ]
  },
  {
   "cell_type": "raw",
   "metadata": {},
   "source": [
    "multilying the budget with 1 unit of the other currency to make it in US dollars, for this creating a new column .\n",
    "ex: if currency unit is say FRF, then 1 FRF = 0.185, this new column store this, then we will multiply with budget to get \n",
    "budget in US dollars"
   ]
  },
  {
   "cell_type": "code",
   "execution_count": 6,
   "metadata": {},
   "outputs": [],
   "source": [
    "#(Making Budget same scale), This should always be the first step before the null value imputation (we call this here as cleaning\n",
    "#Feature Engineering:  Creating Country column\n",
    "\n",
    "# before thi we need to filll the null value in Origin_Currency_Symbol\n",
    "\n",
    "# Create a boolean mask where True indicates the value in Origin_Currency_Symbol is None\n",
    "mask = df['Origin_Currency_Symbol'].isna()\n",
    "\n",
    "# Use the mask to filter the DataFrame\n",
    "rows_with_none = df[mask]\n",
    "distinct_origin_countries =rows_with_none['origin_country'].unique() # to get an idea for below mapping\n",
    "\n",
    "\n",
    "# Assuming df is your DataFrame\n",
    "\n",
    "# Mapping of country to currency symbol\n",
    "country_to_currency_symbol = {\n",
    "    'Japan': '¥',\n",
    "    'Germany': '€',\n",
    "    'United States': '$',\n",
    "    'India': '₹',\n",
    "    'United Kingdom': '£',\n",
    "    'Sweden': 'SEK',\n",
    "    'France': '€',\n",
    "    'Italy': '€',\n",
    "    'Turkey': 'TRY',\n",
    "    'Soviet Union': 'SUR',\n",
    "    'France, Italy': '€'\n",
    "}\n",
    "\n",
    "# Function to fill the currency symbol based on the country\n",
    "def fill_currency_symbol(row):\n",
    "    if pd.isna(row['Origin_Currency_Symbol']):\n",
    "        country = row['origin_country']\n",
    "        # Strip and remove brackets from the country name\n",
    "        country = country.strip(\"[]\").replace(\"'\", \"\")\n",
    "        return country_to_currency_symbol.get(country)\n",
    "    else:\n",
    "        return row['Origin_Currency_Symbol']\n",
    "\n",
    "# Apply the function to each row where Origin_Currency_Symbol is null\n",
    "mask = df['Origin_Currency_Symbol'].isnull()\n",
    "df.loc[mask, 'Origin_Currency_Symbol'] = df.loc[mask].apply(fill_currency_symbol, axis=1)\n",
    "\n",
    "\n",
    "# creating symbol list\n",
    "symbol=[]\n",
    "for i in range(df.shape[0]):\n",
    "    a = re.findall(r'\\D',df['Origin_Currency_Symbol'][i])\n",
    "    b= df['Origin_Currency_Symbol'][i]\n",
    "    \n",
    "    if '$' in a :\n",
    "        symbol.append(1)\n",
    "        \n",
    "    elif ('M' in a and 'V' in a and 'R' in a ):\n",
    "        symbol.append(1400000) # the budget for movie: Blade Runner(1982) was 28000000. 20 *x = 28000000\n",
    "        \n",
    "    elif '£' in a :\n",
    "        symbol.append(1.55)\n",
    "        \n",
    "    elif '₹' in a :\n",
    "        symbol.append(0.022)\n",
    "        \n",
    "    elif '€' in a :\n",
    "        symbol.append(1.33)\n",
    "        \n",
    "    elif 'D' in a and 'E' in a and 'M' in a:\n",
    "        symbol.append(0.454) #1 US Dollar was equivalent to 2.2 approx , there are 2 movies :1981 nd 1921, for both.\n",
    "    \n",
    "    elif '¥' in a :\n",
    "        symbol.append(0.0069)\n",
    "    \n",
    "    elif ('F' in a and 'R' in a and 'F' in a) : #1 US Dollar was equivalent to 5.4 French Francs in 90's, so 1 FRF = 1 / 5.4 USD = 0.185 usd\n",
    "        symbol.append(0.185)\n",
    "        \n",
    "    elif '₩' in a :\n",
    "        symbol.append(0.00085)\n",
    "    \n",
    "    elif 'SUR' in b :\n",
    "        symbol.append(0.454)\n",
    "    \n",
    "    elif 'TRY' in b :\n",
    "        symbol.append(0.66)\n",
    "    \n",
    "    elif 'SEK' in b :\n",
    "        symbol.append(0.14)\n",
    "    else:\n",
    "        symbol.append(\" \")\n",
    "        \n",
    "        \n",
    "df.drop(['Origin_Currency_Symbol'],axis = 1 ,inplace = True)\n",
    "df['Country'] = df['origin_country']\n",
    "df=df.drop('origin_country',axis=1)\n",
    "df['symbol']=symbol\n",
    "\n"
   ]
  },
  {
   "cell_type": "code",
   "execution_count": 19,
   "metadata": {},
   "outputs": [],
   "source": [
    "b=list(df['Budget']) \n",
    "df.drop(['Budget'],axis = 1 ,inplace = True)\n",
    "\n",
    "array1 = np.array(b)\n",
    "array2 = np.array(symbol)\n",
    "\n",
    "n = min(len(b), len(symbol))\n",
    "result = array1[:n]*array2[:n] \n",
    "\n",
    "result = result.tolist()\n",
    "\n",
    "df['Budget'] = result\n",
    "\n",
    "\n",
    "df.drop(['symbol'],axis = 1 ,inplace = True)\n",
    "country=df['Country']\n",
    "\n",
    "new_country = []\n",
    "for x in country:\n",
    "    if pd.notna(x):\n",
    "        \n",
    "        new_country.append(str(x).replace(\"[\", \"\").replace(\"]\", \"\").replace(\"'\", \"\"))\n",
    "    else:\n",
    "        new_country.append(None)\n",
    "\n",
    "        \n",
    "df['Country']=new_country\n",
    "df[\"Country\"][(np.where(df[\"Name\"]=='Downfall')[0])[0]] = \"Germany\""
   ]
  },
  {
   "cell_type": "code",
   "execution_count": 26,
   "metadata": {},
   "outputs": [
    {
     "name": "stdout",
     "output_type": "stream",
     "text": [
      "(250, 16)\n"
     ]
    }
   ],
   "source": [
    "print(df.shape)"
   ]
  },
  {
   "cell_type": "code",
   "execution_count": 27,
   "metadata": {},
   "outputs": [
    {
     "name": "stdout",
     "output_type": "stream",
     "text": [
      "Index(['Name', 'Year', 'Month', 'duration', 'Cast', 'Director', 'Users',\n",
      "       'Production', 'Genre', 'US_Canada_Collection', 'Weekend_Collection',\n",
      "       'Worlwide_Collection', 'Meta_Score', 'Rating', 'Country', 'Budget'],\n",
      "      dtype='object')\n"
     ]
    }
   ],
   "source": [
    "print(df.columns)"
   ]
  },
  {
   "cell_type": "code",
   "execution_count": 28,
   "metadata": {},
   "outputs": [
    {
     "data": {
      "text/html": [
       "<div>\n",
       "<style scoped>\n",
       "    .dataframe tbody tr th:only-of-type {\n",
       "        vertical-align: middle;\n",
       "    }\n",
       "\n",
       "    .dataframe tbody tr th {\n",
       "        vertical-align: top;\n",
       "    }\n",
       "\n",
       "    .dataframe thead th {\n",
       "        text-align: right;\n",
       "    }\n",
       "</style>\n",
       "<table border=\"1\" class=\"dataframe\">\n",
       "  <thead>\n",
       "    <tr style=\"text-align: right;\">\n",
       "      <th></th>\n",
       "      <th>Year</th>\n",
       "      <th>Month</th>\n",
       "      <th>duration</th>\n",
       "      <th>Users</th>\n",
       "      <th>US_Canada_Collection</th>\n",
       "      <th>Weekend_Collection</th>\n",
       "      <th>Worlwide_Collection</th>\n",
       "      <th>Meta_Score</th>\n",
       "      <th>Rating</th>\n",
       "      <th>Budget</th>\n",
       "    </tr>\n",
       "  </thead>\n",
       "  <tbody>\n",
       "    <tr>\n",
       "      <th>count</th>\n",
       "      <td>250.0</td>\n",
       "      <td>250.0</td>\n",
       "      <td>250.0</td>\n",
       "      <td>250.0</td>\n",
       "      <td>220.0</td>\n",
       "      <td>198.0</td>\n",
       "      <td>242.0</td>\n",
       "      <td>229.0</td>\n",
       "      <td>250.0</td>\n",
       "      <td>230.0</td>\n",
       "    </tr>\n",
       "    <tr>\n",
       "      <th>mean</th>\n",
       "      <td>1986.5</td>\n",
       "      <td>6.8</td>\n",
       "      <td>139.6</td>\n",
       "      <td>631300.2</td>\n",
       "      <td>102642991.1</td>\n",
       "      <td>19263564.7</td>\n",
       "      <td>223763503.9</td>\n",
       "      <td>82.4</td>\n",
       "      <td>8.3</td>\n",
       "      <td>35997672.3</td>\n",
       "    </tr>\n",
       "    <tr>\n",
       "      <th>std</th>\n",
       "      <td>25.2</td>\n",
       "      <td>3.7</td>\n",
       "      <td>165.2</td>\n",
       "      <td>510374.5</td>\n",
       "      <td>144654729.3</td>\n",
       "      <td>45060468.9</td>\n",
       "      <td>367254543.4</td>\n",
       "      <td>10.9</td>\n",
       "      <td>0.2</td>\n",
       "      <td>55512475.5</td>\n",
       "    </tr>\n",
       "    <tr>\n",
       "      <th>min</th>\n",
       "      <td>1921.0</td>\n",
       "      <td>1.0</td>\n",
       "      <td>67.0</td>\n",
       "      <td>29676.0</td>\n",
       "      <td>509.0</td>\n",
       "      <td>2149.0</td>\n",
       "      <td>67.0</td>\n",
       "      <td>55.0</td>\n",
       "      <td>8.0</td>\n",
       "      <td>133000.0</td>\n",
       "    </tr>\n",
       "    <tr>\n",
       "      <th>25%</th>\n",
       "      <td>1966.2</td>\n",
       "      <td>3.0</td>\n",
       "      <td>108.0</td>\n",
       "      <td>215888.0</td>\n",
       "      <td>6248739.2</td>\n",
       "      <td>129230.8</td>\n",
       "      <td>7492081.0</td>\n",
       "      <td>75.0</td>\n",
       "      <td>8.1</td>\n",
       "      <td>3000000.0</td>\n",
       "    </tr>\n",
       "    <tr>\n",
       "      <th>50%</th>\n",
       "      <td>1994.0</td>\n",
       "      <td>7.0</td>\n",
       "      <td>127.0</td>\n",
       "      <td>488464.0</td>\n",
       "      <td>43784075.5</td>\n",
       "      <td>633850.0</td>\n",
       "      <td>62514489.0</td>\n",
       "      <td>84.0</td>\n",
       "      <td>8.2</td>\n",
       "      <td>15000000.0</td>\n",
       "    </tr>\n",
       "    <tr>\n",
       "      <th>75%</th>\n",
       "      <td>2006.8</td>\n",
       "      <td>10.0</td>\n",
       "      <td>145.8</td>\n",
       "      <td>949418.0</td>\n",
       "      <td>149598741.5</td>\n",
       "      <td>20203184.2</td>\n",
       "      <td>313524351.8</td>\n",
       "      <td>90.0</td>\n",
       "      <td>8.4</td>\n",
       "      <td>40000000.0</td>\n",
       "    </tr>\n",
       "    <tr>\n",
       "      <th>max</th>\n",
       "      <td>2022.0</td>\n",
       "      <td>12.0</td>\n",
       "      <td>2700.0</td>\n",
       "      <td>2647119.0</td>\n",
       "      <td>858373000.0</td>\n",
       "      <td>357115007.0</td>\n",
       "      <td>2797501328.0</td>\n",
       "      <td>100.0</td>\n",
       "      <td>9.2</td>\n",
       "      <td>356000000.0</td>\n",
       "    </tr>\n",
       "  </tbody>\n",
       "</table>\n",
       "</div>"
      ],
      "text/plain": [
       "        Year  Month  duration     Users  US_Canada_Collection  \\\n",
       "count  250.0  250.0     250.0     250.0                 220.0   \n",
       "mean  1986.5    6.8     139.6  631300.2           102642991.1   \n",
       "std     25.2    3.7     165.2  510374.5           144654729.3   \n",
       "min   1921.0    1.0      67.0   29676.0                 509.0   \n",
       "25%   1966.2    3.0     108.0  215888.0             6248739.2   \n",
       "50%   1994.0    7.0     127.0  488464.0            43784075.5   \n",
       "75%   2006.8   10.0     145.8  949418.0           149598741.5   \n",
       "max   2022.0   12.0    2700.0 2647119.0           858373000.0   \n",
       "\n",
       "       Weekend_Collection  Worlwide_Collection  Meta_Score  Rating      Budget  \n",
       "count               198.0                242.0       229.0   250.0       230.0  \n",
       "mean           19263564.7          223763503.9        82.4     8.3  35997672.3  \n",
       "std            45060468.9          367254543.4        10.9     0.2  55512475.5  \n",
       "min                2149.0                 67.0        55.0     8.0    133000.0  \n",
       "25%              129230.8            7492081.0        75.0     8.1   3000000.0  \n",
       "50%              633850.0           62514489.0        84.0     8.2  15000000.0  \n",
       "75%            20203184.2          313524351.8        90.0     8.4  40000000.0  \n",
       "max           357115007.0         2797501328.0       100.0     9.2 356000000.0  "
      ]
     },
     "metadata": {},
     "output_type": "display_data"
    }
   ],
   "source": [
    "display(df.describe())"
   ]
  },
  {
   "cell_type": "markdown",
   "metadata": {},
   "source": [
    "# Null Value Imputation"
   ]
  },
  {
   "cell_type": "code",
   "execution_count": 29,
   "metadata": {},
   "outputs": [
    {
     "name": "stdout",
     "output_type": "stream",
     "text": [
      "Null values in each columns : \n",
      "\n",
      "Name                     0\n",
      "Year                     0\n",
      "Month                    0\n",
      "duration                 0\n",
      "Cast                     0\n",
      "Director                 0\n",
      "Users                    0\n",
      "Production               0\n",
      "Genre                    0\n",
      "US_Canada_Collection    30\n",
      "Weekend_Collection      52\n",
      "Worlwide_Collection      8\n",
      "Meta_Score              21\n",
      "Rating                   0\n",
      "Country                  8\n",
      "Budget                  20\n",
      "dtype: int64\n",
      "\n",
      "\n",
      "Total null values in dataset :  139\n"
     ]
    }
   ],
   "source": [
    "print(\"Null values in each columns : \\n\")\n",
    "print(df.isnull().sum())\n",
    "print(\"\\n\\nTotal null values in dataset : \", df.isnull().sum().sum())"
   ]
  },
  {
   "cell_type": "code",
   "execution_count": 30,
   "metadata": {},
   "outputs": [],
   "source": [
    "# split df in to df_num and df_cat to fill out the missing values, later we again join them together.\n",
    "\n",
    "df_num = df.select_dtypes(include='number')\n",
    "df_cat=df.select_dtypes(exclude='number')"
   ]
  },
  {
   "cell_type": "code",
   "execution_count": 31,
   "metadata": {},
   "outputs": [
    {
     "data": {
      "text/html": [
       "<div>\n",
       "<style scoped>\n",
       "    .dataframe tbody tr th:only-of-type {\n",
       "        vertical-align: middle;\n",
       "    }\n",
       "\n",
       "    .dataframe tbody tr th {\n",
       "        vertical-align: top;\n",
       "    }\n",
       "\n",
       "    .dataframe thead th {\n",
       "        text-align: right;\n",
       "    }\n",
       "</style>\n",
       "<table border=\"1\" class=\"dataframe\">\n",
       "  <thead>\n",
       "    <tr style=\"text-align: right;\">\n",
       "      <th></th>\n",
       "      <th>Year</th>\n",
       "      <th>Month</th>\n",
       "      <th>duration</th>\n",
       "      <th>Users</th>\n",
       "      <th>US_Canada_Collection</th>\n",
       "      <th>Weekend_Collection</th>\n",
       "      <th>Worlwide_Collection</th>\n",
       "      <th>Meta_Score</th>\n",
       "      <th>Rating</th>\n",
       "      <th>Budget</th>\n",
       "    </tr>\n",
       "  </thead>\n",
       "  <tbody>\n",
       "    <tr>\n",
       "      <th>0</th>\n",
       "      <td>1994</td>\n",
       "      <td>10</td>\n",
       "      <td>142</td>\n",
       "      <td>2647119</td>\n",
       "      <td>28767189.0</td>\n",
       "      <td>727327.0</td>\n",
       "      <td>28884504.0</td>\n",
       "      <td>81.0</td>\n",
       "      <td>9.2</td>\n",
       "      <td>25000000.0</td>\n",
       "    </tr>\n",
       "    <tr>\n",
       "      <th>1</th>\n",
       "      <td>1972</td>\n",
       "      <td>3</td>\n",
       "      <td>175</td>\n",
       "      <td>1834912</td>\n",
       "      <td>136381073.0</td>\n",
       "      <td>302393.0</td>\n",
       "      <td>250341816.0</td>\n",
       "      <td>100.0</td>\n",
       "      <td>9.2</td>\n",
       "      <td>6000000.0</td>\n",
       "    </tr>\n",
       "    <tr>\n",
       "      <th>2</th>\n",
       "      <td>2008</td>\n",
       "      <td>7</td>\n",
       "      <td>152</td>\n",
       "      <td>2619064</td>\n",
       "      <td>534987076.0</td>\n",
       "      <td>158411483.0</td>\n",
       "      <td>1006234167.0</td>\n",
       "      <td>84.0</td>\n",
       "      <td>9.0</td>\n",
       "      <td>185000000.0</td>\n",
       "    </tr>\n",
       "    <tr>\n",
       "      <th>3</th>\n",
       "      <td>1974</td>\n",
       "      <td>12</td>\n",
       "      <td>202</td>\n",
       "      <td>1257549</td>\n",
       "      <td>47834595.0</td>\n",
       "      <td>171417.0</td>\n",
       "      <td>47961919.0</td>\n",
       "      <td>90.0</td>\n",
       "      <td>9.0</td>\n",
       "      <td>13000000.0</td>\n",
       "    </tr>\n",
       "    <tr>\n",
       "      <th>4</th>\n",
       "      <td>1957</td>\n",
       "      <td>4</td>\n",
       "      <td>96</td>\n",
       "      <td>781551</td>\n",
       "      <td>nan</td>\n",
       "      <td>nan</td>\n",
       "      <td>955.0</td>\n",
       "      <td>96.0</td>\n",
       "      <td>8.9</td>\n",
       "      <td>350000.0</td>\n",
       "    </tr>\n",
       "  </tbody>\n",
       "</table>\n",
       "</div>"
      ],
      "text/plain": [
       "   Year  Month  duration    Users  US_Canada_Collection  Weekend_Collection  \\\n",
       "0  1994     10       142  2647119            28767189.0            727327.0   \n",
       "1  1972      3       175  1834912           136381073.0            302393.0   \n",
       "2  2008      7       152  2619064           534987076.0         158411483.0   \n",
       "3  1974     12       202  1257549            47834595.0            171417.0   \n",
       "4  1957      4        96   781551                   nan                 nan   \n",
       "\n",
       "   Worlwide_Collection  Meta_Score  Rating      Budget  \n",
       "0           28884504.0        81.0     9.2  25000000.0  \n",
       "1          250341816.0       100.0     9.2   6000000.0  \n",
       "2         1006234167.0        84.0     9.0 185000000.0  \n",
       "3           47961919.0        90.0     9.0  13000000.0  \n",
       "4                955.0        96.0     8.9    350000.0  "
      ]
     },
     "metadata": {},
     "output_type": "display_data"
    }
   ],
   "source": [
    "display(df_num.head())"
   ]
  },
  {
   "cell_type": "code",
   "execution_count": 32,
   "metadata": {},
   "outputs": [
    {
     "data": {
      "text/html": [
       "<div>\n",
       "<style scoped>\n",
       "    .dataframe tbody tr th:only-of-type {\n",
       "        vertical-align: middle;\n",
       "    }\n",
       "\n",
       "    .dataframe tbody tr th {\n",
       "        vertical-align: top;\n",
       "    }\n",
       "\n",
       "    .dataframe thead th {\n",
       "        text-align: right;\n",
       "    }\n",
       "</style>\n",
       "<table border=\"1\" class=\"dataframe\">\n",
       "  <thead>\n",
       "    <tr style=\"text-align: right;\">\n",
       "      <th></th>\n",
       "      <th>Name</th>\n",
       "      <th>Cast</th>\n",
       "      <th>Director</th>\n",
       "      <th>Production</th>\n",
       "      <th>Genre</th>\n",
       "      <th>Country</th>\n",
       "    </tr>\n",
       "  </thead>\n",
       "  <tbody>\n",
       "    <tr>\n",
       "      <th>0</th>\n",
       "      <td>The Shawshank Redemption</td>\n",
       "      <td>Tim Robbins, Morgan Freeman</td>\n",
       "      <td>Frank Darabont</td>\n",
       "      <td>Castle Rock Entertainment</td>\n",
       "      <td>Drama</td>\n",
       "      <td>United States</td>\n",
       "    </tr>\n",
       "    <tr>\n",
       "      <th>1</th>\n",
       "      <td>The Godfather</td>\n",
       "      <td>Marlon Brando, Al Pacino</td>\n",
       "      <td>Francis Ford Coppola</td>\n",
       "      <td>Paramount Pictures</td>\n",
       "      <td>Crime</td>\n",
       "      <td>United States</td>\n",
       "    </tr>\n",
       "    <tr>\n",
       "      <th>2</th>\n",
       "      <td>The Dark Knight</td>\n",
       "      <td>Christian Bale, Heath Ledger</td>\n",
       "      <td>Christopher Nolan</td>\n",
       "      <td>Warner Bros.</td>\n",
       "      <td>Action</td>\n",
       "      <td>United States, United Kingdom</td>\n",
       "    </tr>\n",
       "    <tr>\n",
       "      <th>3</th>\n",
       "      <td>The Godfather Part II</td>\n",
       "      <td>Al Pacino, Robert De Niro</td>\n",
       "      <td>Francis Ford Coppola</td>\n",
       "      <td>Paramount Pictures</td>\n",
       "      <td>Crime</td>\n",
       "      <td>United States</td>\n",
       "    </tr>\n",
       "    <tr>\n",
       "      <th>4</th>\n",
       "      <td>12 Angry Men</td>\n",
       "      <td>Henry Fonda, Lee J. Cobb</td>\n",
       "      <td>Sidney Lumet</td>\n",
       "      <td>Orion-Nova Productions</td>\n",
       "      <td>Crime</td>\n",
       "      <td>United States</td>\n",
       "    </tr>\n",
       "  </tbody>\n",
       "</table>\n",
       "</div>"
      ],
      "text/plain": [
       "                       Name                          Cast  \\\n",
       "0  The Shawshank Redemption   Tim Robbins, Morgan Freeman   \n",
       "1             The Godfather      Marlon Brando, Al Pacino   \n",
       "2           The Dark Knight  Christian Bale, Heath Ledger   \n",
       "3     The Godfather Part II     Al Pacino, Robert De Niro   \n",
       "4              12 Angry Men      Henry Fonda, Lee J. Cobb   \n",
       "\n",
       "               Director                 Production   Genre  \\\n",
       "0        Frank Darabont  Castle Rock Entertainment   Drama   \n",
       "1  Francis Ford Coppola         Paramount Pictures   Crime   \n",
       "2     Christopher Nolan               Warner Bros.  Action   \n",
       "3  Francis Ford Coppola         Paramount Pictures   Crime   \n",
       "4          Sidney Lumet     Orion-Nova Productions   Crime   \n",
       "\n",
       "                         Country  \n",
       "0                  United States  \n",
       "1                  United States  \n",
       "2  United States, United Kingdom  \n",
       "3                  United States  \n",
       "4                  United States  "
      ]
     },
     "metadata": {},
     "output_type": "display_data"
    }
   ],
   "source": [
    "display(df_cat.head())"
   ]
  },
  {
   "cell_type": "code",
   "execution_count": 34,
   "metadata": {},
   "outputs": [],
   "source": [
    "# missing value imputation for the numerical columns\n",
    "\n",
    "from sklearn.impute import KNNImputer   # missing values imputation\n",
    "\n",
    "imputer = KNNImputer(n_neighbors=2)  #impute missing values\n",
    "df_num.iloc[:,0:]=imputer.fit_transform(df_num.iloc[:,0:])"
   ]
  },
  {
   "cell_type": "code",
   "execution_count": 37,
   "metadata": {},
   "outputs": [],
   "source": [
    "df= pd.concat([df_cat,df_num], axis=1)  # this df is without null values"
   ]
  },
  {
   "cell_type": "code",
   "execution_count": 39,
   "metadata": {},
   "outputs": [
    {
     "data": {
      "text/html": [
       "<div>\n",
       "<style scoped>\n",
       "    .dataframe tbody tr th:only-of-type {\n",
       "        vertical-align: middle;\n",
       "    }\n",
       "\n",
       "    .dataframe tbody tr th {\n",
       "        vertical-align: top;\n",
       "    }\n",
       "\n",
       "    .dataframe thead th {\n",
       "        text-align: right;\n",
       "    }\n",
       "</style>\n",
       "<table border=\"1\" class=\"dataframe\">\n",
       "  <thead>\n",
       "    <tr style=\"text-align: right;\">\n",
       "      <th></th>\n",
       "      <th>Name</th>\n",
       "      <th>Cast</th>\n",
       "      <th>Director</th>\n",
       "      <th>Production</th>\n",
       "      <th>Genre</th>\n",
       "      <th>Country</th>\n",
       "      <th>Year</th>\n",
       "      <th>Month</th>\n",
       "      <th>duration</th>\n",
       "      <th>Users</th>\n",
       "      <th>US_Canada_Collection</th>\n",
       "      <th>Weekend_Collection</th>\n",
       "      <th>Worlwide_Collection</th>\n",
       "      <th>Meta_Score</th>\n",
       "      <th>Rating</th>\n",
       "      <th>Budget</th>\n",
       "    </tr>\n",
       "  </thead>\n",
       "  <tbody>\n",
       "    <tr>\n",
       "      <th>0</th>\n",
       "      <td>The Shawshank Redemption</td>\n",
       "      <td>Tim Robbins, Morgan Freeman</td>\n",
       "      <td>Frank Darabont</td>\n",
       "      <td>Castle Rock Entertainment</td>\n",
       "      <td>Drama</td>\n",
       "      <td>United States</td>\n",
       "      <td>1994.0</td>\n",
       "      <td>10.0</td>\n",
       "      <td>142.0</td>\n",
       "      <td>2647119.0</td>\n",
       "      <td>28767189.0</td>\n",
       "      <td>727327.0</td>\n",
       "      <td>28884504.0</td>\n",
       "      <td>81.0</td>\n",
       "      <td>9.2</td>\n",
       "      <td>25000000.0</td>\n",
       "    </tr>\n",
       "    <tr>\n",
       "      <th>1</th>\n",
       "      <td>The Godfather</td>\n",
       "      <td>Marlon Brando, Al Pacino</td>\n",
       "      <td>Francis Ford Coppola</td>\n",
       "      <td>Paramount Pictures</td>\n",
       "      <td>Crime</td>\n",
       "      <td>United States</td>\n",
       "      <td>1972.0</td>\n",
       "      <td>3.0</td>\n",
       "      <td>175.0</td>\n",
       "      <td>1834912.0</td>\n",
       "      <td>136381073.0</td>\n",
       "      <td>302393.0</td>\n",
       "      <td>250341816.0</td>\n",
       "      <td>100.0</td>\n",
       "      <td>9.2</td>\n",
       "      <td>6000000.0</td>\n",
       "    </tr>\n",
       "  </tbody>\n",
       "</table>\n",
       "</div>"
      ],
      "text/plain": [
       "                       Name                         Cast  \\\n",
       "0  The Shawshank Redemption  Tim Robbins, Morgan Freeman   \n",
       "1             The Godfather     Marlon Brando, Al Pacino   \n",
       "\n",
       "               Director                 Production  Genre        Country  \\\n",
       "0        Frank Darabont  Castle Rock Entertainment  Drama  United States   \n",
       "1  Francis Ford Coppola         Paramount Pictures  Crime  United States   \n",
       "\n",
       "    Year  Month  duration     Users  US_Canada_Collection  Weekend_Collection  \\\n",
       "0 1994.0   10.0     142.0 2647119.0            28767189.0            727327.0   \n",
       "1 1972.0    3.0     175.0 1834912.0           136381073.0            302393.0   \n",
       "\n",
       "   Worlwide_Collection  Meta_Score  Rating     Budget  \n",
       "0           28884504.0        81.0     9.2 25000000.0  \n",
       "1          250341816.0       100.0     9.2  6000000.0  "
      ]
     },
     "execution_count": 39,
     "metadata": {},
     "output_type": "execute_result"
    }
   ],
   "source": [
    "df.head(2)"
   ]
  },
  {
   "cell_type": "code",
   "execution_count": 41,
   "metadata": {},
   "outputs": [],
   "source": [
    "df.to_excel (r'C:\\Users\\Dell\\Desktop\\250_IMDB_modified_clean.xlsx', index = False, header=True)"
   ]
  },
  {
   "cell_type": "markdown",
   "metadata": {},
   "source": [
    "# SUMMARIZING QUANTITATIVE DATA"
   ]
  },
  {
   "cell_type": "markdown",
   "metadata": {},
   "source": [
    "# YEAR"
   ]
  },
  {
   "cell_type": "markdown",
   "metadata": {},
   "source": [
    "# 1- OUTLIER DETECTION"
   ]
  },
  {
   "cell_type": "code",
   "execution_count": 42,
   "metadata": {},
   "outputs": [
    {
     "name": "stdout",
     "output_type": "stream",
     "text": [
      "[]\n",
      "[]\n"
     ]
    }
   ],
   "source": [
    "# Outlier Detection using IQR\n",
    "\n",
    "index=[]\n",
    "outlier=[]\n",
    "percentile25 = df['Year'].quantile(0.25)\n",
    "percentile75 = df['Year'].quantile(0.75)\n",
    "iqr= percentile75-percentile25\n",
    "upper = percentile75 + 1.5 * iqr\n",
    "lower = percentile25 - 1.5 * iqr\n",
    "for i in range(len(df['Year'])):\n",
    "    if (df['Year'][i]>upper) or (df['Year'][i]<lower):\n",
    "        outlier.append(df['Year'][i])\n",
    "        index.append(i)\n",
    "        \n",
    "print(index)\n",
    "print(outlier)\n",
    "\n",
    "#note: these methods are giving us outliers, they are providing us the verhu high and very low values which have the potential\n",
    "# to be an outlier. Outlier is an incorrect observation. For every potential outlier we verify if it is correct or not and based on this, we declare it as an outlier."
   ]
  },
  {
   "cell_type": "markdown",
   "metadata": {},
   "source": [
    "No outliers, hence no error in  Year "
   ]
  },
  {
   "cell_type": "markdown",
   "metadata": {},
   "source": [
    "# 2- MEASURE OF DISTRIBUTION SHAPE"
   ]
  },
  {
   "cell_type": "code",
   "execution_count": 43,
   "metadata": {},
   "outputs": [
    {
     "data": {
      "text/plain": [
       "<seaborn.axisgrid.FacetGrid at 0x1ffd90c1d90>"
      ]
     },
     "metadata": {},
     "output_type": "display_data"
    },
    {
     "data": {
      "image/png": "[encoded data removed]",
      "text/plain": [
       "<Figure size 360x360 with 1 Axes>"
      ]
     },
     "metadata": {
      "needs_background": "light"
     },
     "output_type": "display_data"
    }
   ],
   "source": [
    "# Graphical meausre of the distribution shape is Histogram\n",
    "display(sns.displot(df['Year'], kind = \"kde\"))\n"
   ]
  },
  {
   "cell_type": "markdown",
   "metadata": {},
   "source": [
    "From above histogram, we can see that the YEAR variable is left skewed."
   ]
  },
  {
   "cell_type": "code",
   "execution_count": 44,
   "metadata": {},
   "outputs": [
    {
     "data": {
      "text/plain": [
       "-0.6793771775494065"
      ]
     },
     "execution_count": 44,
     "metadata": {},
     "output_type": "execute_result"
    }
   ],
   "source": [
    "# Numerical meausre of the distribution shape is : skewness\n",
    "df['Year'].skew()"
   ]
  },
  {
   "cell_type": "markdown",
   "metadata": {},
   "source": [
    "Skewness value is : -0.679. Negative value implies that YEAR is left skewed. As skweness is not less than -1, we can say that YEAR is moderately skewed to Left."
   ]
  },
  {
   "cell_type": "markdown",
   "metadata": {},
   "source": [
    "We can conclude that, there are very few movies among top 250 imdb movies which were released around 1920."
   ]
  },
  {
   "cell_type": "markdown",
   "metadata": {},
   "source": [
    "# 3- MEASURE OF CENTRAL TENDENCY"
   ]
  },
  {
   "cell_type": "code",
   "execution_count": 45,
   "metadata": {},
   "outputs": [
    {
     "data": {
      "text/plain": [
       "1986.488"
      ]
     },
     "execution_count": 45,
     "metadata": {},
     "output_type": "execute_result"
    }
   ],
   "source": [
    "# mean\n",
    "df['Year'].mean()"
   ]
  },
  {
   "cell_type": "code",
   "execution_count": 46,
   "metadata": {},
   "outputs": [
    {
     "data": {
      "text/plain": [
       "1994.0"
      ]
     },
     "execution_count": 46,
     "metadata": {},
     "output_type": "execute_result"
    }
   ],
   "source": [
    "#median\n",
    "df['Year'].median()"
   ]
  },
  {
   "cell_type": "code",
   "execution_count": 47,
   "metadata": {},
   "outputs": [
    {
     "data": {
      "text/plain": [
       "0   1995.0\n",
       "dtype: float64"
      ]
     },
     "execution_count": 47,
     "metadata": {},
     "output_type": "execute_result"
    }
   ],
   "source": [
    "#mode\n",
    "df['Year'].mode()"
   ]
  },
  {
   "cell_type": "markdown",
   "metadata": {},
   "source": [
    "Note: YEAR is asymmetric, so the better measure of the central tendency is median."
   ]
  },
  {
   "cell_type": "markdown",
   "metadata": {},
   "source": [
    "The movie release years are clustered around 1994\n",
    "50 percent of the top 250 imdb movies were released on or before 1994.\n"
   ]
  },
  {
   "cell_type": "markdown",
   "metadata": {},
   "source": [
    "Mazority of the top 250 imdb movies were released in year 1995."
   ]
  },
  {
   "cell_type": "code",
   "execution_count": 48,
   "metadata": {},
   "outputs": [
    {
     "name": "stdout",
     "output_type": "stream",
     "text": [
      "8\n"
     ]
    }
   ],
   "source": [
    "# finding maximum movies released in a Year that make in top 250 imdb list.\n",
    "m=0\n",
    "for x in df['Year']:\n",
    "    if x==1995:\n",
    "        m+=1\n",
    "print(m)"
   ]
  },
  {
   "cell_type": "markdown",
   "metadata": {},
   "source": [
    "In 1995, total 8 movies got their listing in imdb top 250 movie list.\n",
    "Producing 8 great movies in a single year is marvelous."
   ]
  },
  {
   "cell_type": "markdown",
   "metadata": {},
   "source": [
    "# 4- PERCENTILES"
   ]
  },
  {
   "cell_type": "code",
   "execution_count": 49,
   "metadata": {},
   "outputs": [
    {
     "name": "stdout",
     "output_type": "stream",
     "text": [
      "1949.8999999999999\n",
      "1966.25\n",
      "1994.0\n",
      "2006.75\n",
      "2015.0\n"
     ]
    }
   ],
   "source": [
    "# percentiles\n",
    "\n",
    "print(df['Year'].quantile(0.10))\n",
    "print(df['Year'].quantile(0.25))\n",
    "print(df['Year'].quantile(0.50))\n",
    "print(df['Year'].quantile(0.75))\n",
    "print(df['Year'].quantile(0.90))"
   ]
  },
  {
   "cell_type": "markdown",
   "metadata": {},
   "source": [
    "10 percent of the top 250 imdb movies were released on or before 1950\n",
    "\n",
    "25 percent of the top 250 imdb movies were released on or before 1966\n",
    "\n",
    "50 percent of the top 250 imdb movies were released on or before 1994\n",
    "\n",
    "75 percent of the top 250 imdb movies were released on or before 2006"
   ]
  },
  {
   "cell_type": "markdown",
   "metadata": {},
   "source": [
    "# 5- MEASURE OF VARIABILITY"
   ]
  },
  {
   "cell_type": "code",
   "execution_count": 50,
   "metadata": {},
   "outputs": [
    {
     "data": {
      "text/plain": [
       "636.3151164658641"
      ]
     },
     "execution_count": 50,
     "metadata": {},
     "output_type": "execute_result"
    }
   ],
   "source": [
    "df['Year'].var()"
   ]
  },
  {
   "cell_type": "code",
   "execution_count": 51,
   "metadata": {},
   "outputs": [
    {
     "data": {
      "text/plain": [
       "25.225287242484754"
      ]
     },
     "execution_count": 51,
     "metadata": {},
     "output_type": "execute_result"
    }
   ],
   "source": [
    "df['Year'].std()"
   ]
  },
  {
   "cell_type": "markdown",
   "metadata": {},
   "source": [
    "The standard deviation is more relatable. It’s like saying, \"If you pick a movie at random from the top 250 IMDb movies, you can expect its release year to be roughly 25 years earlier or later than the average release year of the list. This range covers the bulk of the movies, but there might be some that are even further away from the average.\"\n",
    "\n",
    "In short, the standard deviation of 25.22 tells you that there is a spread of about 25 years in the release dates of movies around the average release year, and that's the number to focus on for a general understanding of the data's spread."
   ]
  },
  {
   "cell_type": "markdown",
   "metadata": {},
   "source": [
    "# 6- FIVE NUMBER SUMMARY (BOX PLOT)"
   ]
  },
  {
   "cell_type": "code",
   "execution_count": 52,
   "metadata": {},
   "outputs": [
    {
     "data": {
      "image/png": "[encoded data removed]",
      "text/plain": [
       "<Figure size 432x288 with 1 Axes>"
      ]
     },
     "metadata": {
      "needs_background": "light"
     },
     "output_type": "display_data"
    },
    {
     "name": "stdout",
     "output_type": "stream",
     "text": [
      "Minimum:  1921.0\n",
      "1st Quartile (25%):  1966.25\n",
      "Median (50%):  1994.0\n",
      "3rd Quartile (75%):  2006.75\n",
      "Maximum:  2022.0\n"
     ]
    }
   ],
   "source": [
    "import seaborn as sns\n",
    "import matplotlib.pyplot as plt\n",
    "\n",
    "# Create a box plot of the 'Year' column from the DataFrame\n",
    "sns.boxplot(y=df[\"Year\"])\n",
    "\n",
    "# Adding labels and title\n",
    "plt.ylabel(\"Year\")\n",
    "plt.title(\"Box Plot of Year\")\n",
    "\n",
    "# Show plot\n",
    "plt.show()\n",
    "\n",
    "# Calculating the five-number summary\n",
    "summary = df[\"Year\"].describe()\n",
    "\n",
    "# Printing the five-number summary\n",
    "print(\"Minimum: \", summary[\"min\"])\n",
    "print(\"1st Quartile (25%): \", summary[\"25%\"])\n",
    "print(\"Median (50%): \", summary[\"50%\"])\n",
    "print(\"3rd Quartile (75%): \", summary[\"75%\"])\n",
    "print(\"Maximum: \", summary[\"max\"])\n"
   ]
  },
  {
   "cell_type": "markdown",
   "metadata": {},
   "source": [
    "# DURATION"
   ]
  },
  {
   "cell_type": "markdown",
   "metadata": {},
   "source": [
    "# 1- OUTLIER DETECTION"
   ]
  },
  {
   "cell_type": "code",
   "execution_count": 53,
   "metadata": {},
   "outputs": [
    {
     "name": "stdout",
     "output_type": "stream",
     "text": [
      "[192]\n",
      "[15.53]\n"
     ]
    }
   ],
   "source": [
    "# Using Zscore( usually we use this method to find the outlier when the data is symmetric, is not  more, we can\n",
    "#use this method to detect the outliers)\n",
    "\n",
    "Year_zscore = list(np.round(stats.zscore(df['duration']), 2))\n",
    "index=[]\n",
    "outlier=[]\n",
    "for i in range(len(Year_zscore)):\n",
    "    if Year_zscore[i]<-3 or Year_zscore[i]>3:\n",
    "        outlier.append(Year_zscore[i])\n",
    "        index.append(i)\n",
    "\n",
    "print(index)\n",
    "print(outlier)"
   ]
  },
  {
   "cell_type": "code",
   "execution_count": 54,
   "metadata": {},
   "outputs": [
    {
     "name": "stdout",
     "output_type": "stream",
     "text": [
      "[19, 80, 95, 158, 182, 192]\n",
      "[207.0, 229.0, 218.0, 238.0, 212.0, 2700.0]\n"
     ]
    }
   ],
   "source": [
    "# Outlier Detection using IQR\n",
    "\n",
    "index=[]\n",
    "outlier=[]\n",
    "percentile25 = df['duration'].quantile(0.25)\n",
    "percentile75 = df['duration'].quantile(0.75)\n",
    "iqr= percentile75-percentile25\n",
    "upper = percentile75 + 1.5 * iqr\n",
    "lower = percentile25 - 1.5 * iqr\n",
    "for i in range(len(df['duration'])):\n",
    "    if (df['duration'][i]>upper) or (df['duration'][i]<lower):\n",
    "        outlier.append(df['duration'][i])\n",
    "        index.append(i)\n",
    "        \n",
    "print(index)\n",
    "print(outlier)\n",
    "\n",
    "#note: these methods are giving us outliers, they are providing us the verhu high and very low values which have the potential\n",
    "# to be an outlier. Outlier is an incorrect observation. For every potential outlier we verify if it is correct or not and based on this, we declare it as an outlier."
   ]
  },
  {
   "cell_type": "code",
   "execution_count": 55,
   "metadata": {},
   "outputs": [
    {
     "data": {
      "text/plain": [
       "<AxesSubplot:xlabel='duration'>"
      ]
     },
     "execution_count": 55,
     "metadata": {},
     "output_type": "execute_result"
    },
    {
     "data": {
      "image/png": "[encoded data removed]",
      "text/plain": [
       "<Figure size 432x288 with 1 Axes>"
      ]
     },
     "metadata": {
      "needs_background": "light"
     },
     "output_type": "display_data"
    }
   ],
   "source": [
    "# Outlier Detection using BOX PLOT (Outlier Detection using IQR graphically)\n",
    "\n",
    "sns.boxplot(x=df[\"duration\"])\n"
   ]
  },
  {
   "cell_type": "markdown",
   "metadata": {},
   "source": [
    "we can see that, only duration 2700.0 is not making any sense, a movie can not be that long. So, we have recorded \n",
    "the false duration time for the movie at index 192. The movie is :  \"Sherlock Jr.\""
   ]
  },
  {
   "cell_type": "code",
   "execution_count": 56,
   "metadata": {},
   "outputs": [],
   "source": [
    "# removing outlier, we have to subsitute a correct value or a value near to it,otherwise we have to drop that observation(row) \n",
    "\n",
    "df.duration=np.where(df.duration==2700,45, df.duration) "
   ]
  },
  {
   "cell_type": "markdown",
   "metadata": {},
   "source": [
    "we can find the correct movie duration from imdb website, above we can see that 45 minutes is a correct movie duration."
   ]
  },
  {
   "cell_type": "markdown",
   "metadata": {},
   "source": [
    "# 2- MEASURE OF DISTRIBUTION SHAPE"
   ]
  },
  {
   "cell_type": "code",
   "execution_count": 57,
   "metadata": {},
   "outputs": [
    {
     "data": {
      "text/plain": [
       "<seaborn.axisgrid.FacetGrid at 0x1ffdba3c250>"
      ]
     },
     "metadata": {},
     "output_type": "display_data"
    },
    {
     "data": {
      "image/png": "[encoded data removed]",
      "text/plain": [
       "<Figure size 360x360 with 1 Axes>"
      ]
     },
     "metadata": {
      "needs_background": "light"
     },
     "output_type": "display_data"
    }
   ],
   "source": [
    "# Graphical meausre of the distribution shape is Histogram\n",
    "\n",
    "display(sns.displot(df['duration'], kind = \"kde\"))"
   ]
  },
  {
   "cell_type": "markdown",
   "metadata": {},
   "source": [
    "we can see that there are some movies whose duration is also less than 50 and for some it is even more than 180 minutes, means more than 3 hours."
   ]
  },
  {
   "cell_type": "code",
   "execution_count": 58,
   "metadata": {},
   "outputs": [
    {
     "name": "stdout",
     "output_type": "stream",
     "text": [
      "0.6943959554643999\n"
     ]
    }
   ],
   "source": [
    "# Numerical meausre of the distribution shape is : skewness\n",
    "\n",
    "print(df['duration'].skew())"
   ]
  },
  {
   "cell_type": "code",
   "execution_count": 59,
   "metadata": {},
   "outputs": [
    {
     "name": "stdout",
     "output_type": "stream",
     "text": [
      "98.94843001095818 , 158.9795699890418\n",
      "68.93286002191635 , 188.99513997808364\n",
      "38.91729003287453 , 219.01070996712548\n"
     ]
    }
   ],
   "source": [
    "(a,b)= (df['duration'].mean() - df['duration'].std()),(df['duration'].mean() + df['duration'].std())\n",
    "print(a,\",\",b)\n",
    "\n",
    "(c,d)= (df['duration'].mean() - 2*df['duration'].std()),(df['duration'].mean() + 2*df['duration'].std())\n",
    "print(c,\",\",d)\n",
    "\n",
    "(e,f)= (df['duration'].mean() - 3*df['duration'].std()),(df['duration'].mean() + 3*df['duration'].std())\n",
    "print(e,\",\",f)"
   ]
  },
  {
   "cell_type": "markdown",
   "metadata": {},
   "source": [
    "#68–95–99 rule ( not taken 99.7 as data is not fully symmetric)\n",
    "\n",
    "Around 68 percent of the top 250 imdb movies have total duration between 99 and 159 minutes.\n",
    "\n",
    "Around 95 percent of the top 250 imdb movies have total duration between 69 and 189 minutes.\n",
    "\n",
    "Around 99 percent of the top 250 imdb movies have total duration between 39 and 220 minutes."
   ]
  },
  {
   "cell_type": "markdown",
   "metadata": {},
   "source": [
    "# 3- MEASURE OF CENTRAL TENDENCY"
   ]
  },
  {
   "cell_type": "code",
   "execution_count": 60,
   "metadata": {},
   "outputs": [
    {
     "name": "stdout",
     "output_type": "stream",
     "text": [
      "128.964\n"
     ]
    }
   ],
   "source": [
    "# mean\n",
    "print(df['duration'].mean())"
   ]
  },
  {
   "cell_type": "code",
   "execution_count": 61,
   "metadata": {},
   "outputs": [
    {
     "name": "stdout",
     "output_type": "stream",
     "text": [
      "126.5\n"
     ]
    }
   ],
   "source": [
    "#median\n",
    "print(df['duration'].median())"
   ]
  },
  {
   "cell_type": "markdown",
   "metadata": {},
   "source": [
    "The movie duration is little asymmetric, so the better measure for central location is median.\n",
    "\n",
    "The movie durations are clustered around 127 minutes. Median is a central vale. Central value divides the total observations in two halves.\n",
    "\n",
    "let say, we decided to make a movie and our aimm to get our movie in top 250 list. Then we try to make movie of length around \n",
    "127 minutes.\n",
    "\n",
    "50 percent of the top 250 imdb movies having the running time less than 127 minutes and rest 50 percent have the running time more than 127 minutes.\n"
   ]
  },
  {
   "cell_type": "markdown",
   "metadata": {},
   "source": [
    "# 4- PERCENTILES"
   ]
  },
  {
   "cell_type": "code",
   "execution_count": 62,
   "metadata": {},
   "outputs": [
    {
     "name": "stdout",
     "output_type": "stream",
     "text": [
      "93.89999999999999\n",
      "107.25\n",
      "126.5\n",
      "145.0\n",
      "170.0\n"
     ]
    }
   ],
   "source": [
    "# percentiles\n",
    "\n",
    "print(df['duration'].quantile(0.10))\n",
    "print(df['duration'].quantile(0.25))\n",
    "print(df['duration'].quantile(0.50))\n",
    "print(df['duration'].quantile(0.75))\n",
    "print(df['duration'].quantile(0.90))"
   ]
  },
  {
   "cell_type": "markdown",
   "metadata": {},
   "source": [
    "10 percent of the top 250 imdb movies have their running time less than or equal to 94 minutes\n",
    "\n",
    "90 percent of the top 250 imdb movies have their running time more than 94 minutes. (imp)\n",
    "\n",
    "25 percent of the top 250 imdb movies have their running time less than or equal to 107 minutes\n",
    "\n",
    "50 percent of the top 250 imdb movies have their running time less than or equal to 127 minutes\n",
    "\n",
    "75 percent of the top 250 imdb movies have their running time less than or equal to 145 minutes\n",
    "\n",
    "10 percent of the top 250 imdb movies have their running time more than 170 minutes.(imp)\n",
    "\n",
    "50 percent of the top 250 imdb movies have their running time between 107 and 145 minutes (imp)\n"
   ]
  },
  {
   "cell_type": "markdown",
   "metadata": {},
   "source": [
    "# 5- MEASURE OF VARIABILITY"
   ]
  },
  {
   "cell_type": "code",
   "execution_count": 63,
   "metadata": {},
   "outputs": [
    {
     "name": "stdout",
     "output_type": "stream",
     "text": [
      "636.3151164658641\n",
      "25.225287242484754\n",
      "37.75\n"
     ]
    }
   ],
   "source": [
    "# numeric measures of variablity, it is always a good idea to compare the variation using numerical measure with histogram\n",
    "print(df['Year'].var())\n",
    "print(df['Year'].std())\n",
    "print(df['duration'].quantile(0.75)- df['duration'].quantile(0.25))"
   ]
  },
  {
   "cell_type": "code",
   "execution_count": 64,
   "metadata": {},
   "outputs": [],
   "source": [
    "# breaking duration in 2 groups in order to compare the duration variation among these 2  groups.\n",
    "\n",
    "\n",
    "duration_year_less2000= df.iloc[np.where(df['Year'] <= 2000)]['duration']\n",
    "duration_year_more2000= df.iloc[np.where(df['Year'] > 2000)]['duration']"
   ]
  },
  {
   "cell_type": "code",
   "execution_count": 65,
   "metadata": {},
   "outputs": [
    {
     "name": "stdout",
     "output_type": "stream",
     "text": [
      "38.5\n",
      "33.25\n"
     ]
    }
   ],
   "source": [
    "print(duration_year_less2000.quantile(0.75)- duration_year_less2000.quantile(0.25))\n",
    "print(duration_year_more2000.quantile(0.75)- duration_year_more2000.quantile(0.25))\n"
   ]
  },
  {
   "cell_type": "markdown",
   "metadata": {},
   "source": [
    "IQR FOR DURATION OF MOVIES WHICH WERE RELEASED ON AND BEFORE YEAR 2000 HAVE MORE IQR FOR DURATION OF MOVIES WHICH WERE RELEASED AFTER YEAR 2000.\n",
    "\n",
    "SO, THE MOVIES WHICH WERE RELEASED ON AND BEFORE YEAR 2000 HAVE MORE VARIATION IN THEIR RUNNING TIME THEN THE VARIATION IN RUNNING TIME FOR THOSE MOVIES WHICH WERE RELEASED AFTER YEAR 2000.\n",
    "\n",
    "Let's try to vizualize the variation:"
   ]
  },
  {
   "cell_type": "code",
   "execution_count": 66,
   "metadata": {},
   "outputs": [
    {
     "data": {
      "text/plain": [
       "<seaborn.axisgrid.FacetGrid at 0x1ffd9154ca0>"
      ]
     },
     "metadata": {},
     "output_type": "display_data"
    },
    {
     "data": {
      "image/png": "[encoded data removed]",
      "text/plain": [
       "<Figure size 360x360 with 1 Axes>"
      ]
     },
     "metadata": {
      "needs_background": "light"
     },
     "output_type": "display_data"
    }
   ],
   "source": [
    "display(sns.displot(duration_year_less2000, kind = \"kde\"))"
   ]
  },
  {
   "cell_type": "code",
   "execution_count": 67,
   "metadata": {},
   "outputs": [
    {
     "data": {
      "text/plain": [
       "<seaborn.axisgrid.FacetGrid at 0x1ffdb9cbcd0>"
      ]
     },
     "metadata": {},
     "output_type": "display_data"
    },
    {
     "data": {
      "image/png": "[encoded data removed]",
      "text/plain": [
       "<Figure size 360x360 with 1 Axes>"
      ]
     },
     "metadata": {
      "needs_background": "light"
     },
     "output_type": "display_data"
    }
   ],
   "source": [
    "display(sns.displot(duration_year_more2000, kind = \"kde\"))"
   ]
  },
  {
   "cell_type": "code",
   "execution_count": 68,
   "metadata": {},
   "outputs": [
    {
     "name": "stdout",
     "output_type": "stream",
     "text": [
      "count    92.0\n",
      "mean    131.4\n",
      "std      24.3\n",
      "min      80.0\n",
      "25%     115.0\n",
      "50%     130.0\n",
      "75%     148.2\n",
      "max     201.0\n",
      "Name: duration, dtype: float64\n"
     ]
    }
   ],
   "source": [
    "print(duration_year_more2000.describe())"
   ]
  },
  {
   "cell_type": "code",
   "execution_count": 69,
   "metadata": {},
   "outputs": [
    {
     "name": "stdout",
     "output_type": "stream",
     "text": [
      "count   158.0\n",
      "mean    127.5\n",
      "std      32.9\n",
      "min      45.0\n",
      "25%     103.5\n",
      "50%     124.5\n",
      "75%     142.0\n",
      "max     238.0\n",
      "Name: duration, dtype: float64\n"
     ]
    }
   ],
   "source": [
    "print(duration_year_less2000.describe())"
   ]
  },
  {
   "cell_type": "markdown",
   "metadata": {},
   "source": [
    "Movies which were released after year 2000, none of them have their running time more than 201 minutes, infact around 99 percent movies have their running time less than or equal to 3 hours.\n",
    "\n",
    "Around 5 percent of the movies released after year 2000 are atleast 3 hours long, and around 9.5 percent of movies which were released before 2000 are atleast 3 hours long.\n",
    "After 2000, the trend of having movies longer than 3 hours gone down.\n",
    "\n"
   ]
  },
  {
   "cell_type": "code",
   "execution_count": 70,
   "metadata": {},
   "outputs": [
    {
     "name": "stdout",
     "output_type": "stream",
     "text": [
      "percent of movies longer than 3 hours after year 2000 :  5.434782608695652\n",
      "percent of movies longer than 3 hours before year 2000 :  9.49367088607595\n"
     ]
    }
   ],
   "source": [
    "movies_longer_3hours =0\n",
    "\n",
    "for x in duration_year_more2000:\n",
    "    if x>175:\n",
    "        movies_longer_3hours+=1\n",
    "        \n",
    "print(\"percent of movies longer than 3 hours after year 2000 : \", (movies_longer_3hours/ len(duration_year_more2000))*100)\n",
    "\n",
    "movies_longer_3hours =0\n",
    "\n",
    "movies_longer_3hours =0\n",
    "\n",
    "for x in duration_year_less2000:\n",
    "    if x>175:\n",
    "        movies_longer_3hours+=1\n",
    "\n",
    "print(\"percent of movies longer than 3 hours before year 2000 : \",(movies_longer_3hours/len(duration_year_less2000))*100)"
   ]
  },
  {
   "cell_type": "markdown",
   "metadata": {},
   "source": [
    "# 6- FIVE NUMBER SUMMARY (BOX PLOT)"
   ]
  },
  {
   "cell_type": "code",
   "execution_count": 71,
   "metadata": {},
   "outputs": [
    {
     "data": {
      "image/png": "[encoded data removed]",
      "text/plain": [
       "<Figure size 432x288 with 1 Axes>"
      ]
     },
     "metadata": {
      "needs_background": "light"
     },
     "output_type": "display_data"
    },
    {
     "name": "stdout",
     "output_type": "stream",
     "text": [
      "Minimum duration:  45.0\n",
      "1st Quartile (25%):  107.25\n",
      "Median (50%):  126.5\n",
      "3rd Quartile (75%):  145.0\n",
      "Maximum duration:  238.0\n"
     ]
    }
   ],
   "source": [
    "sns.boxplot(y=df[\"duration\"])\n",
    "\n",
    "# Adding labels and title\n",
    "plt.ylabel(\"duration\")\n",
    "plt.title(\"Box Plot for Movie duration\")\n",
    "\n",
    "# Show plot\n",
    "plt.show()\n",
    "\n",
    "# Calculating the five-number summary\n",
    "summary = df[\"duration\"].describe()\n",
    "\n",
    "# Printing the five-number summary\n",
    "print(\"Minimum duration: \", summary[\"min\"])\n",
    "print(\"1st Quartile (25%): \", summary[\"25%\"])\n",
    "print(\"Median (50%): \", summary[\"50%\"])\n",
    "print(\"3rd Quartile (75%): \", summary[\"75%\"])\n",
    "print(\"Maximum duration: \", summary[\"max\"])\n"
   ]
  },
  {
   "cell_type": "markdown",
   "metadata": {},
   "source": [
    "# MONTH"
   ]
  },
  {
   "cell_type": "markdown",
   "metadata": {},
   "source": [
    "# 1- OUTLIER DETECTION"
   ]
  },
  {
   "cell_type": "code",
   "execution_count": 72,
   "metadata": {},
   "outputs": [
    {
     "name": "stdout",
     "output_type": "stream",
     "text": [
      "[]\n",
      "[]\n"
     ]
    }
   ],
   "source": [
    "# Outlier Detection using IQR\n",
    "\n",
    "index=[]\n",
    "outlier=[]\n",
    "percentile25 = df['Month'].quantile(0.25)\n",
    "percentile75 = df['Month'].quantile(0.75)\n",
    "iqr= percentile75-percentile25\n",
    "upper = percentile75 + 1.5 * iqr\n",
    "lower = percentile25 - 1.5 * iqr\n",
    "for i in range(len(df['Month'])):\n",
    "    if (df['Month'][i]>upper) or (df['Month'][i]<lower):\n",
    "        outlier.append(df['Month'][i])\n",
    "        index.append(i)\n",
    "        \n",
    "print(index)\n",
    "print(outlier)\n",
    "\n",
    "#note: these methods are giving us outliers, they are providing us the verhu high and very low values which have the potential\n",
    "# to be an outlier. Outlier is an incorrect observation. For every potential outlier we verify if it is correct or not and based on this, we declare it as an outlier."
   ]
  },
  {
   "cell_type": "markdown",
   "metadata": {},
   "source": [
    "# 2- MEASURE OF DISTRIBUTION SHAPE"
   ]
  },
  {
   "cell_type": "code",
   "execution_count": 73,
   "metadata": {},
   "outputs": [
    {
     "data": {
      "text/plain": [
       "<seaborn.axisgrid.FacetGrid at 0x1ffdba76d30>"
      ]
     },
     "metadata": {},
     "output_type": "display_data"
    },
    {
     "data": {
      "image/png": "[encoded data removed]",
      "text/plain": [
       "<Figure size 360x360 with 1 Axes>"
      ]
     },
     "metadata": {
      "needs_background": "light"
     },
     "output_type": "display_data"
    }
   ],
   "source": [
    "# Graphical meausre of the distribution shape is Histogram\n",
    "\n",
    "\n",
    "\n",
    "display(sns.displot(df['Month'], kind = \"kde\"))\n",
    "\n"
   ]
  },
  {
   "cell_type": "code",
   "execution_count": 74,
   "metadata": {},
   "outputs": [
    {
     "name": "stdout",
     "output_type": "stream",
     "text": [
      "-0.07112359862347871\n"
     ]
    }
   ],
   "source": [
    "# Numerical meausre of the distribution shape is : skewness\n",
    "\n",
    "print(df['Month'].skew())"
   ]
  },
  {
   "cell_type": "markdown",
   "metadata": {},
   "source": [
    "# 3- MEASURE OF CENTRAL TENDENCY"
   ]
  },
  {
   "cell_type": "code",
   "execution_count": 75,
   "metadata": {},
   "outputs": [
    {
     "name": "stdout",
     "output_type": "stream",
     "text": [
      "6.848\n"
     ]
    }
   ],
   "source": [
    "# mean\n",
    "print(df['Month'].mean())"
   ]
  },
  {
   "cell_type": "code",
   "execution_count": 76,
   "metadata": {},
   "outputs": [
    {
     "name": "stdout",
     "output_type": "stream",
     "text": [
      "7.0\n"
     ]
    }
   ],
   "source": [
    "#median\n",
    "print(df['Month'].median())"
   ]
  },
  {
   "cell_type": "code",
   "execution_count": 77,
   "metadata": {},
   "outputs": [
    {
     "name": "stdout",
     "output_type": "stream",
     "text": [
      "0   12.0\n",
      "dtype: float64\n"
     ]
    }
   ],
   "source": [
    "#mode\n",
    "print(df['Month'].mode())"
   ]
  },
  {
   "cell_type": "markdown",
   "metadata": {},
   "source": [
    "50 percent of the movies were released on or before july\n",
    "\n",
    "Most of the top 250 imdb movies were released in December."
   ]
  },
  {
   "cell_type": "markdown",
   "metadata": {},
   "source": [
    "# USERS"
   ]
  },
  {
   "cell_type": "markdown",
   "metadata": {},
   "source": [
    "# 1- OUTLIER DETECTION"
   ]
  },
  {
   "cell_type": "code",
   "execution_count": 78,
   "metadata": {},
   "outputs": [
    {
     "name": "stdout",
     "output_type": "stream",
     "text": [
      "[0, 2, 12]\n",
      "[3.96, 3.9, 3.32]\n"
     ]
    }
   ],
   "source": [
    "# Using Zscore( usually we use this method to find the outlier when the data is symmetric, is not  more, we can\n",
    "#use this method to detect the outliers)\n",
    "\n",
    "Year_zscore = list(np.round(stats.zscore(df['Users']), 2))\n",
    "index=[]\n",
    "outlier=[]\n",
    "for i in range(len(Year_zscore)):\n",
    "    if Year_zscore[i]<-3 or Year_zscore[i]>3:\n",
    "        outlier.append(Year_zscore[i])\n",
    "        index.append(i)\n",
    "\n",
    "print(index)\n",
    "print(outlier)"
   ]
  },
  {
   "cell_type": "code",
   "execution_count": 79,
   "metadata": {},
   "outputs": [
    {
     "name": "stdout",
     "output_type": "stream",
     "text": [
      "[0, 2, 11, 12]\n",
      "[2647119.0, 2619064.0, 2091977.0, 2321234.0]\n"
     ]
    }
   ],
   "source": [
    "# Outlier Detection using IQR\n",
    "\n",
    "index=[]\n",
    "outlier=[]\n",
    "percentile25 = df['Users'].quantile(0.25)\n",
    "percentile75 = df['Users'].quantile(0.75)\n",
    "iqr= percentile75-percentile25\n",
    "upper = percentile75 + 1.5 * iqr\n",
    "lower = percentile25 - 1.5 * iqr\n",
    "for i in range(len(df['Users'])):\n",
    "    if (df['Users'][i]>upper) or (df['Users'][i]<lower):\n",
    "        outlier.append(df['Users'][i])\n",
    "        index.append(i)\n",
    "        \n",
    "print(index)\n",
    "print(outlier)\n",
    "\n",
    "#note: these methods are giving us outliers, they are providing us the verhu high and very low values which have the potential\n",
    "# to be an outlier. Outlier is an incorrect observation. For every potential outlier we verify if it is correct or not and based on this, we declare it as an outlier."
   ]
  },
  {
   "cell_type": "markdown",
   "metadata": {},
   "source": [
    "They are the high values, but they are making sense,as ratings can be in millions. So we are not treating them as outliers"
   ]
  },
  {
   "cell_type": "markdown",
   "metadata": {},
   "source": [
    "# 2- MEASURE OF DISTRIBUTION SHAPE"
   ]
  },
  {
   "cell_type": "code",
   "execution_count": 80,
   "metadata": {},
   "outputs": [
    {
     "data": {
      "text/plain": [
       "<seaborn.axisgrid.FacetGrid at 0x1ffdb9902b0>"
      ]
     },
     "metadata": {},
     "output_type": "display_data"
    },
    {
     "data": {
      "image/png": "[encoded data removed]",
      "text/plain": [
       "<Figure size 360x360 with 1 Axes>"
      ]
     },
     "metadata": {
      "needs_background": "light"
     },
     "output_type": "display_data"
    }
   ],
   "source": [
    "# Graphical meausre of the distribution shape is Histogram\n",
    "\n",
    "\n",
    "display(sns.displot(df['Users'], kind = \"kde\"))\n"
   ]
  },
  {
   "cell_type": "markdown",
   "metadata": {},
   "source": [
    "From above histogram, we cann see that the USERS is right skewed. So, we can see that the there are some movies which are rated by millions of users."
   ]
  },
  {
   "cell_type": "code",
   "execution_count": 81,
   "metadata": {},
   "outputs": [
    {
     "name": "stdout",
     "output_type": "stream",
     "text": [
      "1.2447144018918606\n"
     ]
    }
   ],
   "source": [
    "# Numerical meausre of the distribution shape is : skewness\n",
    "\n",
    "print(df['Users'].skew())"
   ]
  },
  {
   "cell_type": "markdown",
   "metadata": {},
   "source": [
    "# 3- MEASURE OF CENTRAL TENDENCY"
   ]
  },
  {
   "cell_type": "code",
   "execution_count": 82,
   "metadata": {},
   "outputs": [
    {
     "name": "stdout",
     "output_type": "stream",
     "text": [
      "631300.24\n"
     ]
    }
   ],
   "source": [
    "# mean\n",
    "print(df['Users'].mean())"
   ]
  },
  {
   "cell_type": "code",
   "execution_count": 83,
   "metadata": {},
   "outputs": [
    {
     "name": "stdout",
     "output_type": "stream",
     "text": [
      "488464.0\n"
     ]
    }
   ],
   "source": [
    "#median\n",
    "print(df['Users'].median())"
   ]
  },
  {
   "cell_type": "markdown",
   "metadata": {},
   "source": [
    "488k is a median Users rated for a movie."
   ]
  },
  {
   "cell_type": "markdown",
   "metadata": {},
   "source": [
    "When the median for the column \"total users rated this movie\" is 488,000, it means that half of the movies in the dataset have been rated by fewer than 488,000 users, and the other half have been rated by more than 488,000 users."
   ]
  },
  {
   "cell_type": "markdown",
   "metadata": {},
   "source": [
    "# 4- PERCENTILES"
   ]
  },
  {
   "cell_type": "code",
   "execution_count": 84,
   "metadata": {},
   "outputs": [
    {
     "name": "stdout",
     "output_type": "stream",
     "text": [
      "118378.4\n",
      "215888.0\n",
      "488464.0\n",
      "949418.0\n",
      "1295179.7999999998\n",
      "2647119.0\n"
     ]
    }
   ],
   "source": [
    "# percentiles\n",
    "\n",
    "print(df['Users'].quantile(0.10))\n",
    "print(df['Users'].quantile(0.25))\n",
    "print(df['Users'].quantile(0.50))\n",
    "print(df['Users'].quantile(0.75))\n",
    "print(df['Users'].quantile(0.90))\n",
    "print(df['Users'].quantile(1))"
   ]
  },
  {
   "cell_type": "markdown",
   "metadata": {},
   "source": [
    "25 percent of the top 250 imdb movies got users between 215k and 488k \n",
    "10 percent of the top 250 imdb movies got users more than 1.3 million.\n",
    "There are around 25 out of 250 movies which where rated by more than 1.3 million users."
   ]
  },
  {
   "cell_type": "code",
   "execution_count": 85,
   "metadata": {},
   "outputs": [],
   "source": [
    "c=0\n",
    "for x in df['Users']:\n",
    "    if x>1300000:\n",
    "        c+=1"
   ]
  },
  {
   "cell_type": "code",
   "execution_count": 86,
   "metadata": {},
   "outputs": [
    {
     "data": {
      "text/plain": [
       "25"
      ]
     },
     "execution_count": 86,
     "metadata": {},
     "output_type": "execute_result"
    }
   ],
   "source": [
    "c"
   ]
  },
  {
   "cell_type": "markdown",
   "metadata": {},
   "source": [
    "# 5- MEASURE OF VARIABILITY"
   ]
  },
  {
   "cell_type": "code",
   "execution_count": 87,
   "metadata": {},
   "outputs": [
    {
     "name": "stdout",
     "output_type": "stream",
     "text": [
      "260482133877.77356\n",
      "510374.503553786\n",
      "949310.75\n"
     ]
    }
   ],
   "source": [
    "# numeric measures of variablity, it is always a good idea to compare the variation using numerical measure with histogram\n",
    "print(df['Users'].var())\n",
    "print(df['Users'].std())\n",
    "print(df['Users'].quantile(0.75)- df['duration'].quantile(0.25))"
   ]
  },
  {
   "cell_type": "code",
   "execution_count": 88,
   "metadata": {},
   "outputs": [],
   "source": [
    "# breaking duration in 2 groups in order to compare the duration variation among these 2  groups.\n",
    "\n",
    "\n",
    "users_imdb_more_9= df.iloc[np.where(df['Rating'] >=9.0)]['Users']\n",
    "users_imdb_more_8_9= df.iloc[np.where(df['Rating'] <9.0) and np.where(df['Rating']>=8.0)] ['Users']"
   ]
  },
  {
   "cell_type": "code",
   "execution_count": 89,
   "metadata": {},
   "outputs": [
    {
     "name": "stdout",
     "output_type": "stream",
     "text": [
      "935506.5\n",
      "733530.0\n"
     ]
    }
   ],
   "source": [
    "print(users_imdb_more_9.quantile(0.75)- users_imdb_more_9.quantile(0.25))\n",
    "print(users_imdb_more_8_9.quantile(0.75)- users_imdb_more_8_9.quantile(0.25))\n"
   ]
  },
  {
   "cell_type": "code",
   "execution_count": 90,
   "metadata": {},
   "outputs": [
    {
     "data": {
      "text/plain": [
       "2226988.0"
      ]
     },
     "execution_count": 90,
     "metadata": {},
     "output_type": "execute_result"
    }
   ],
   "source": [
    "users_imdb_more_9.quantile(0.50)"
   ]
  },
  {
   "cell_type": "markdown",
   "metadata": {},
   "source": [
    "\n",
    "The total ratings for a movie with imdb 9 or more showing high variation then for movies with imdb rating between 8 and 9."
   ]
  },
  {
   "cell_type": "code",
   "execution_count": 91,
   "metadata": {},
   "outputs": [
    {
     "data": {
      "text/plain": [
       "670406.4418241618"
      ]
     },
     "execution_count": 91,
     "metadata": {},
     "output_type": "execute_result"
    }
   ],
   "source": [
    "users_imdb_more_9.std()"
   ]
  },
  {
   "cell_type": "code",
   "execution_count": 92,
   "metadata": {},
   "outputs": [
    {
     "data": {
      "text/plain": [
       "510374.503553786"
      ]
     },
     "execution_count": 92,
     "metadata": {},
     "output_type": "execute_result"
    }
   ],
   "source": [
    "users_imdb_more_8_9.std()"
   ]
  },
  {
   "cell_type": "markdown",
   "metadata": {},
   "source": [
    "# 6- FIVE NUMBER SUMMARY (BOX PLOT)"
   ]
  },
  {
   "cell_type": "code",
   "execution_count": 93,
   "metadata": {},
   "outputs": [
    {
     "data": {
      "image/png": "[encoded data removed]",
      "text/plain": [
       "<Figure size 432x288 with 1 Axes>"
      ]
     },
     "metadata": {
      "needs_background": "light"
     },
     "output_type": "display_data"
    },
    {
     "name": "stdout",
     "output_type": "stream",
     "text": [
      "Minimum Users rated :  29676.0\n",
      "1st Quartile (25%):  215888.0\n",
      "Median (50%):  488464.0\n",
      "3rd Quartile (75%):  949418.0\n",
      "Maximum Users rated:  2647119.0\n"
     ]
    }
   ],
   "source": [
    "\n",
    "sns.boxplot(y=df[\"Users\"])\n",
    "\n",
    "# Adding labels and title\n",
    "plt.ylabel(\"Users\")\n",
    "plt.title(\"Box Plot of Users\")\n",
    "\n",
    "# Show plot\n",
    "plt.show()\n",
    "\n",
    "# Calculating the five-number summary\n",
    "summary = df[\"Users\"].describe()\n",
    "\n",
    "# Printing the five-number summary\n",
    "print(\"Minimum Users rated : \", summary[\"min\"])\n",
    "print(\"1st Quartile (25%): \", summary[\"25%\"])\n",
    "print(\"Median (50%): \", summary[\"50%\"])\n",
    "print(\"3rd Quartile (75%): \", summary[\"75%\"])\n",
    "print(\"Maximum Users rated: \", summary[\"max\"])\n"
   ]
  },
  {
   "cell_type": "markdown",
   "metadata": {},
   "source": [
    "# ANALYSIS (Part - 2)"
   ]
  },
  {
   "cell_type": "markdown",
   "metadata": {},
   "source": [
    "# Genre"
   ]
  },
  {
   "cell_type": "code",
   "execution_count": 94,
   "metadata": {},
   "outputs": [
    {
     "data": {
      "text/plain": [
       "<AxesSubplot:xlabel='Genre', ylabel='count'>"
      ]
     },
     "execution_count": 94,
     "metadata": {},
     "output_type": "execute_result"
    },
    {
     "data": {
      "image/png": "[encoded data removed]",
      "text/plain": [
       "<Figure size 842.4x595.44 with 1 Axes>"
      ]
     },
     "metadata": {},
     "output_type": "display_data"
    }
   ],
   "source": [
    "sns.set(rc={'figure.figsize':(11.7,8.27)})\n",
    "sns.countplot(x=df[\"Genre\"])"
   ]
  },
  {
   "cell_type": "markdown",
   "metadata": {},
   "source": [
    "We can see that drama movies followed by action movies are in majority among the other genre movies.\n",
    "\n",
    "More important thing to notice here is that, Horror movies count is similar to the Mystery movies count. \n",
    "\n",
    "Also, we can see a tie between Animation and Comedy genre movies.\n"
   ]
  },
  {
   "cell_type": "markdown",
   "metadata": {},
   "source": [
    "# Director"
   ]
  },
  {
   "cell_type": "code",
   "execution_count": 132,
   "metadata": {},
   "outputs": [
    {
     "data": {
      "image/png": "[encoded data removed]",
      "text/plain": [
       "<Figure size 1080x576 with 1 Axes>"
      ]
     },
     "metadata": {},
     "output_type": "display_data"
    }
   ],
   "source": [
    "director_counts = df['Director'].value_counts() # series created\n",
    "\n",
    "# Filter counts greater than 1\n",
    "filtered_director_counts = director_counts[director_counts > 1] # filtered the series\n",
    "\n",
    "# Plot the bar chart\n",
    "plt.figure(figsize=(15, 8))\n",
    "filtered_director_counts.plot(kind='bar')\n",
    "plt.xlabel('Director')\n",
    "plt.ylabel('Total Movies Directed')\n",
    "plt.title('Distribution by Directors with more than 1 Movie')\n",
    "plt.show()"
   ]
  },
  {
   "cell_type": "markdown",
   "metadata": {},
   "source": [
    "Christopher Nolan,  Steven Spielberg, Akira Kurosawa, Martin Scorsese, Stanley Kubrick are the only directors who have directed more than 5 movies that are the part of top 250.\n",
    "\n",
    "All of these directed 7 movies in total. Out of 250 movies, 35 movies are alone directed by these directors in total, i.e 14 percent of the movies were directed by these 5 gems only."
   ]
  },
  {
   "cell_type": "markdown",
   "metadata": {},
   "source": [
    "# Production"
   ]
  },
  {
   "cell_type": "code",
   "execution_count": 137,
   "metadata": {},
   "outputs": [
    {
     "data": {
      "image/png": "[encoded data removed]",
      "text/plain": [
       "<Figure size 1080x576 with 1 Axes>"
      ]
     },
     "metadata": {},
     "output_type": "display_data"
    }
   ],
   "source": [
    "\n",
    "production_counts = df['Production'].value_counts() # series created\n",
    "\n",
    "# Filter counts greater than 1\n",
    "filtered_production_counts = production_counts[production_counts > 1] # filtered the series\n",
    "\n",
    "# Plot the bar chart\n",
    "plt.figure(figsize=(15, 8))\n",
    "filtered_production_counts.plot(kind='bar')\n",
    "plt.xlabel('Production')\n",
    "plt.ylabel('Movies Produced')\n",
    "plt.title('Counts of Movies Produced with More Than 1 Movie')\n",
    "\n",
    "# Set y-axis ticks in multiples of 2\n",
    "max_count = filtered_production_counts.max()\n",
    "plt.yticks(range(0, max_count + 2, 2))\n",
    "\n",
    "plt.show()"
   ]
  },
  {
   "cell_type": "markdown",
   "metadata": {},
   "source": [
    "8.4 percent of the total top 250 are come from the production house of Warner Bros followed by Paramount Pictures and Walt Disney Pictures.\n",
    "\n",
    "8.4 percent is a great number, Warner Bros did awesome job."
   ]
  },
  {
   "cell_type": "markdown",
   "metadata": {},
   "source": [
    "# CAST"
   ]
  },
  {
   "cell_type": "code",
   "execution_count": 167,
   "metadata": {},
   "outputs": [],
   "source": [
    "Actor_1 =[]\n",
    "Actor_2=[]\n",
    "for x in df['Cast']:\n",
    "    Actor_1.append(x.split(\",\")[0].lower())\n",
    "    Actor_2.append(x.split(\",\")[1].lower().strip())\n",
    "Actor_1.extend(Actor_2)"
   ]
  },
  {
   "cell_type": "code",
   "execution_count": 168,
   "metadata": {},
   "outputs": [
    {
     "data": {
      "image/png": "[encoded data removed]",
      "text/plain": [
       "<Figure size 1080x576 with 1 Axes>"
      ]
     },
     "metadata": {},
     "output_type": "display_data"
    }
   ],
   "source": [
    "movies_counts = pd.Series(Actor_1).value_counts() \n",
    "\n",
    "# Filter counts greater than 1\n",
    "filtered_movies_counts = movies_counts[movies_counts > 2] # filtered the series\n",
    "\n",
    "# Plot the bar chart\n",
    "plt.figure(figsize=(15, 8))\n",
    "filtered_movies_counts.plot(kind='bar')\n",
    "plt.xlabel('Actors')\n",
    "plt.ylabel('Movies Acted')\n",
    "plt.title('Counts of Movies Acted with More Than 1 Movie')\n",
    "\n",
    "# Set y-axis ticks in multiples of 2\n",
    "max_count = filtered_movies_counts.max()\n",
    "plt.yticks(range(0, max_count + 1, 1))\n",
    "\n",
    "plt.show()"
   ]
  },
  {
   "cell_type": "markdown",
   "metadata": {},
   "source": [
    "Lets find out, which actors are the part of most of the movies.\n",
    "\n",
    "Robert De Niro : He acted in 9 movies, i.e 3.4 percent of movies had him. 9 is a great number, for a reson is among gretest\n",
    "                 actors.\n",
    "\n",
    "Tom Hanks: If you have watched \"Forest Gump\", then this name will not surprise you. Apart from Forest Gump, He was a part of 5            more movies. \n",
    "    "
   ]
  },
  {
   "cell_type": "code",
   "execution_count": 155,
   "metadata": {},
   "outputs": [],
   "source": [
    "act_1= Actor_1\n",
    "act_2=Actor_2\n",
    "\n",
    "# creating a actor_combo where actors are sorted \n",
    "actor_combo=[]\n",
    "for i in range(0,250):\n",
    "    x=act_1[i]\n",
    "    y=act_2[i]\n",
    "    if x < y:\n",
    "        actor_combo.append(x+\", \"+y)\n",
    "    else:\n",
    "        actor_combo.append(y+\", \"+x)"
   ]
  },
  {
   "cell_type": "code",
   "execution_count": 158,
   "metadata": {},
   "outputs": [
    {
     "data": {
      "image/png": "[encoded data removed]",
      "text/plain": [
       "<Figure size 1080x576 with 1 Axes>"
      ]
     },
     "metadata": {},
     "output_type": "display_data"
    }
   ],
   "source": [
    "combined_actors_counts= pd.Series(actor_combo).value_counts()\n",
    "filtered_combined_actors_counts = combined_actors_counts[combined_actors_counts > 1] # filtered the series\n",
    "\n",
    "# Plot the bar chart\n",
    "plt.figure(figsize=(15, 8))\n",
    "filtered_combined_actors_counts.plot(kind='bar')\n",
    "plt.xlabel('Actors Together')\n",
    "plt.ylabel('Movies Together')\n",
    "plt.title('Movies Done Together')\n",
    "\n",
    "# Set y-axis ticks in multiples of 2\n",
    "max_count = filtered_combined_actors_counts.max()\n",
    "plt.yticks(range(0, max_count + 1, 1))\n",
    "\n",
    "plt.show()"
   ]
  },
  {
   "cell_type": "markdown",
   "metadata": {},
   "source": [
    "Now, lets see that which combination of actors contributed to this list most.\n",
    "\n",
    "First name in the combo comes of:\n",
    "\n",
    "Harrison Ford and Mark Hamill, both have acted in 3 movies together.\n",
    "    \n",
    "The pair which have acted together in exactly 2 movies are below:\n",
    "    \n",
    "1- Al Pacino and Robert de Niro\n",
    "\n",
    "2- Elijah Wood and Ian Mckellen\n",
    "\n",
    "3- Arnold Schwarzenegger and Linda Hamilton\n",
    "\n",
    "4- Charles Cahplin and Paulette Goddard\n",
    "\n",
    "5- Tim Allen and Tom Hanks\n",
    "\n",
    "6- Joseph Cotten and Orson Welles\n",
    "\n",
    "7- Graham Chaman and John Cleese\n",
    "\n",
    "8- Ethan Hawke and Julie Delpy"
   ]
  },
  {
   "cell_type": "code",
   "execution_count": 172,
   "metadata": {},
   "outputs": [
    {
     "name": "stdout",
     "output_type": "stream",
     "text": [
      "The Godfather Part II\n",
      "Goodfellas\n",
      "Joker\n",
      "Once Upon a Time in America\n",
      "Heat\n",
      "Taxi Driver\n",
      "Casino\n",
      "Raging Bull\n",
      "The Deer Hunter\n"
     ]
    }
   ],
   "source": [
    "# list all the movies in which Robert De Niero acted\n",
    "\n",
    "for i in range(df.shape[0]):\n",
    "    if \"Robert De Niro\" in df['Cast'][i]:\n",
    "        print(df[\"Name\"][i])"
   ]
  },
  {
   "cell_type": "markdown",
   "metadata": {},
   "source": [
    "Lets see, in which movies Robert De Niro acted. Above is the list of those movies.\n",
    "\n",
    "Godfather made him a superstar and how one can forget \"Murry\" from \"Joker\". "
   ]
  },
  {
   "cell_type": "code",
   "execution_count": 173,
   "metadata": {},
   "outputs": [
    {
     "name": "stdout",
     "output_type": "stream",
     "text": [
      "Star Wars: Episode V - The Empire Strikes Back\n",
      "Star Wars\n",
      "Star Wars: Episode VI - Return of the Jedi\n"
     ]
    }
   ],
   "source": [
    "# list all the movies which include both the actors : Mark Hamill, Harrison Ford\n",
    "\n",
    "for i in range(df.shape[0]):\n",
    "    if \"Mark Hamill\" in df['Cast'][i] and \"Harrison Ford\"  in df['Cast'][i]:\n",
    "        print(df[\"Name\"][i])\n"
   ]
  },
  {
   "cell_type": "code",
   "execution_count": 174,
   "metadata": {},
   "outputs": [
    {
     "name": "stdout",
     "output_type": "stream",
     "text": [
      "Terminator 2: Judgment Day\n",
      "The Terminator\n"
     ]
    }
   ],
   "source": [
    "# list all the movies which include both the actors : Arnold Schwarzenegger, Linda Hamilton\n",
    "\n",
    "for i in range(df.shape[0]):\n",
    "    if \"Arnold Schwarzenegger\" in df['Cast'][i] and \"Linda Hamilton\"  in df['Cast'][i]:\n",
    "        print(df[\"Name\"][i])\n"
   ]
  },
  {
   "cell_type": "code",
   "execution_count": 105,
   "metadata": {},
   "outputs": [
    {
     "name": "stdout",
     "output_type": "stream",
     "text": [
      "Index(['Name', 'Cast', 'Director', 'Production', 'Genre', 'Country', 'Year',\n",
      "       'Month', 'duration', 'Users', 'US_Canada_Collection',\n",
      "       'Weekend_Collection', 'Worlwide_Collection', 'Meta_Score', 'Rating',\n",
      "       'Budget'],\n",
      "      dtype='object')\n"
     ]
    }
   ],
   "source": [
    "print(df.columns)"
   ]
  },
  {
   "cell_type": "markdown",
   "metadata": {},
   "source": [
    "# BUDGET Analysis"
   ]
  },
  {
   "cell_type": "code",
   "execution_count": 176,
   "metadata": {},
   "outputs": [
    {
     "data": {
      "image/png": "[encoded data removed]",
      "text/plain": [
       "<Figure size 1080x576 with 1 Axes>"
      ]
     },
     "metadata": {},
     "output_type": "display_data"
    }
   ],
   "source": [
    "# Budget with Genre\n",
    "\n",
    "plt.figure(figsize=(15, 8))\n",
    "plt.bar(df['Genre'], df['Budget'])\n",
    "plt.xlabel('Genre')\n",
    "plt.ylabel('Budget')\n",
    "plt.title('Budget with Genre')\n",
    "\n",
    "plt.show()\n"
   ]
  },
  {
   "cell_type": "markdown",
   "metadata": {},
   "source": [
    "The total budget for the Drama movies are less as comapared to action movies as comapred to the action movies. Action genre is followed by Animation.\n",
    "\n",
    "In total, the total budget for action movies was around 3.5 Billion dollars and for Animation movies, around 1.9 Billion dollars."
   ]
  },
  {
   "cell_type": "code",
   "execution_count": 182,
   "metadata": {},
   "outputs": [
    {
     "data": {
      "image/png": "[encoded data removed]",
      "text/plain": [
       "<Figure size 1800x1440 with 1 Axes>"
      ]
     },
     "metadata": {},
     "output_type": "display_data"
    }
   ],
   "source": [
    "# Budget with Production with atleast 0.2 billion \n",
    "\n",
    "\n",
    "# Group by Production and sum the Budget\n",
    "budget_by_production = df.groupby('Production')['Budget'].sum()\n",
    "\n",
    "# Filter productions with total budget at least 0.2 billion\n",
    "budget_threshold = 0.2 * 10**9\n",
    "filtered_budget_by_production = budget_by_production[budget_by_production >= budget_threshold]\n",
    "\n",
    "plt.figure(figsize=(25, 20))\n",
    "plt.bar(filtered_budget_by_production.index, filtered_budget_by_production.values)\n",
    "plt.xlabel('Production')\n",
    "plt.ylabel('Budget')\n",
    "plt.title('Budget with Production (Total Budget at least 0.2 Billion)')\n",
    "\n",
    "plt.show()\n"
   ]
  },
  {
   "cell_type": "markdown",
   "metadata": {},
   "source": [
    "We have seen that Warner Bros has produced 21 movies and Walt disney has produced 8 movies. This made up their total budget of 1.39 billion dollars and 768 million dollars respectively.\n",
    "\n",
    "But, Paramount pictures have also produced 8 movies in budget of 623 million dollars, which is approx. 150 million dollar less than Disney's budget. The reason behind this can be : that walt disney's favourite genre is Animation.\n",
    "\n",
    "Lets dive deep for these 3 productions and find out taht in what kind of movies does they spend most."
   ]
  },
  {
   "cell_type": "code",
   "execution_count": 183,
   "metadata": {},
   "outputs": [
    {
     "name": "stdout",
     "output_type": "stream",
     "text": [
      "1398950000.0\n"
     ]
    }
   ],
   "source": [
    "Warner_Bros_budget=0\n",
    "for i in range(df.shape[0]):\n",
    "    if df['Production'][i] == 'Warner Bros.':\n",
    "        Warner_Bros_budget =Warner_Bros_budget+df['Budget'][i]\n",
    "        \n",
    "print(Warner_Bros_budget)\n",
    "        "
   ]
  },
  {
   "cell_type": "code",
   "execution_count": 184,
   "metadata": {},
   "outputs": [
    {
     "name": "stdout",
     "output_type": "stream",
     "text": [
      "768775000.0\n"
     ]
    }
   ],
   "source": [
    "walt_disney_budget=0\n",
    "for i in range(df.shape[0]):\n",
    "    if df['Production'][i] == 'Walt Disney Pictures':\n",
    "        walt_disney_budget = walt_disney_budget+df['Budget'][i]\n",
    "        \n",
    "print(walt_disney_budget)\n",
    "        "
   ]
  },
  {
   "cell_type": "code",
   "execution_count": 185,
   "metadata": {},
   "outputs": [
    {
     "name": "stdout",
     "output_type": "stream",
     "text": [
      "The Lion King\n",
      "Animation\n",
      "45000000.0\n",
      "1994.0\n",
      "\n",
      "\n",
      "Toy Story\n",
      "Animation\n",
      "30000000.0\n",
      "1995.0\n",
      "\n",
      "\n",
      "Coco\n",
      "Animation\n",
      "175000000.0\n",
      "2017.0\n",
      "\n",
      "\n",
      "Toy Story 3\n",
      "Animation\n",
      "200000000.0\n",
      "2010.0\n",
      "\n",
      "\n",
      "Hamilton\n",
      "Biography\n",
      "775000.0\n",
      "2020.0\n",
      "\n",
      "\n",
      "Ratatouille\n",
      "Animation\n",
      "150000000.0\n",
      "2007.0\n",
      "\n",
      "\n",
      "Pirates of the Caribbean: The Curse of the Black Pearl\n",
      "Action\n",
      "140000000.0\n",
      "2003.0\n",
      "\n",
      "\n",
      "Aladdin\n",
      "Animation\n",
      "28000000.0\n",
      "1992.0\n",
      "\n",
      "\n"
     ]
    }
   ],
   "source": [
    "for i in range(df.shape[0]):\n",
    "    if df['Production'][i] == 'Walt Disney Pictures':\n",
    "        print(df['Name'][i])\n",
    "        print(df['Genre'][i])\n",
    "        print(df['Budget'][i])\n",
    "        print(df['Year'][i])\n",
    "        print(\"\\n\")\n",
    "        "
   ]
  },
  {
   "cell_type": "markdown",
   "metadata": {},
   "source": [
    "Disney produced 75 percent Animation movies."
   ]
  },
  {
   "cell_type": "code",
   "execution_count": 186,
   "metadata": {},
   "outputs": [
    {
     "name": "stdout",
     "output_type": "stream",
     "text": [
      "The Dark Knight\n",
      "Action\n",
      "185000000.0\n",
      "2008.0\n",
      "\n",
      "\n",
      "Inception\n",
      "Action\n",
      "160000000.0\n",
      "2010.0\n",
      "\n",
      "\n",
      "The Matrix\n",
      "Action\n",
      "63000000.0\n",
      "1999.0\n",
      "\n",
      "\n",
      "Goodfellas\n",
      "Biography\n",
      "25000000.0\n",
      "1990.0\n",
      "\n",
      "\n",
      "The Departed\n",
      "Crime\n",
      "90000000.0\n",
      "2006.0\n",
      "\n",
      "\n",
      "Casablanca\n",
      "Drama\n",
      "950000.0\n",
      "1942.0\n",
      "\n",
      "\n",
      "The Shining\n",
      "Drama\n",
      "19000000.0\n",
      "1980.0\n",
      "\n",
      "\n",
      "The Dark Knight Rises\n",
      "Action\n",
      "250000000.0\n",
      "2012.0\n",
      "\n",
      "\n",
      "Joker\n",
      "Crime\n",
      "55000000.0\n",
      "2019.0\n",
      "\n",
      "\n",
      "A Clockwork Orange\n",
      "Crime\n",
      "2200000.0\n",
      "1971.0\n",
      "\n",
      "\n",
      "Full Metal Jacket\n",
      "Drama\n",
      "30000000.0\n",
      "1987.0\n",
      "\n",
      "\n",
      "Heat\n",
      "Action\n",
      "60000000.0\n",
      "1995.0\n",
      "\n",
      "\n",
      "Batman Begins\n",
      "Action\n",
      "150000000.0\n",
      "2005.0\n",
      "\n",
      "\n",
      "Unforgiven\n",
      "Drama\n",
      "14400000.0\n",
      "1992.0\n",
      "\n",
      "\n",
      "The Treasure of the Sierra Madre\n",
      "Adventure\n",
      "3000000.0\n",
      "1948.0\n",
      "\n",
      "\n",
      "V for Vendetta\n",
      "Action\n",
      "54000000.0\n",
      "2005.0\n",
      "\n",
      "\n",
      "Dial M for Murder\n",
      "Crime\n",
      "1400000.0\n",
      "1954.0\n",
      "\n",
      "\n",
      "Million Dollar Baby\n",
      "Drama\n",
      "30000000.0\n",
      "2004.0\n",
      "\n",
      "\n",
      "Harry Potter and the Deathly Hallows: Part 2\n",
      "Adventure\n",
      "125000000.0\n",
      "2011.0\n",
      "\n",
      "\n",
      "The Exorcist\n",
      "Horror\n",
      "11000000.0\n",
      "1973.0\n",
      "\n",
      "\n",
      "The Iron Giant\n",
      "Animation\n",
      "70000000.0\n",
      "1999.0\n",
      "\n",
      "\n"
     ]
    }
   ],
   "source": [
    "for i in range(df.shape[0]):\n",
    "    if df['Production'][i] == 'Warner Bros.':\n",
    "        print(df['Name'][i])\n",
    "        print(df['Genre'][i])\n",
    "        print(df['Budget'][i])\n",
    "        print(df['Year'][i])\n",
    "        print(\"\\n\")\n",
    "        "
   ]
  },
  {
   "cell_type": "markdown",
   "metadata": {},
   "source": [
    "The interesting thing to notice about the Warner Bros is that, this production house didn't limit itself to only particular type of genre. It has produced Animation, Horror, Adventure, Drama, Crime, Action, Biography.\n",
    "\n",
    "Warner Bros. has covered all the genres.\n"
   ]
  },
  {
   "cell_type": "markdown",
   "metadata": {},
   "source": [
    "### lets do the trended analysis of budget for  Animated movies"
   ]
  },
  {
   "cell_type": "code",
   "execution_count": 188,
   "metadata": {},
   "outputs": [
    {
     "data": {
      "image/png": "[encoded data removed]",
      "text/plain": [
       "<Figure size 720x360 with 1 Axes>"
      ]
     },
     "metadata": {},
     "output_type": "display_data"
    }
   ],
   "source": [
    "Y = df['Budget'].loc[df['Genre'] == 'Animation']/ 10**6  # Convert budget to millions\n",
    "X = df['Year'].loc[df['Genre'] == 'Animation']\n",
    "\n",
    "plt.figure(figsize=(10, 5))\n",
    "plt.scatter(X, Y)\n",
    "plt.xlabel('Year')\n",
    "plt.ylabel('Budget (in millions)')\n",
    "plt.title('Budget with Year for Animated Movies')\n",
    "\n",
    "plt.show()\n"
   ]
  },
  {
   "cell_type": "markdown",
   "metadata": {},
   "source": [
    "The most expensive animated movies was produced in year 2010, lets find about the details of that movie."
   ]
  },
  {
   "cell_type": "code",
   "execution_count": 116,
   "metadata": {},
   "outputs": [
    {
     "data": {
      "text/html": [
       "<div>\n",
       "<style scoped>\n",
       "    .dataframe tbody tr th:only-of-type {\n",
       "        vertical-align: middle;\n",
       "    }\n",
       "\n",
       "    .dataframe tbody tr th {\n",
       "        vertical-align: top;\n",
       "    }\n",
       "\n",
       "    .dataframe thead th {\n",
       "        text-align: right;\n",
       "    }\n",
       "</style>\n",
       "<table border=\"1\" class=\"dataframe\">\n",
       "  <thead>\n",
       "    <tr style=\"text-align: right;\">\n",
       "      <th></th>\n",
       "      <th>Name</th>\n",
       "      <th>Cast</th>\n",
       "      <th>Director</th>\n",
       "      <th>Production</th>\n",
       "      <th>Genre</th>\n",
       "      <th>Country</th>\n",
       "      <th>Year</th>\n",
       "      <th>Month</th>\n",
       "      <th>duration</th>\n",
       "      <th>Users</th>\n",
       "      <th>US_Canada_Collection</th>\n",
       "      <th>Weekend_Collection</th>\n",
       "      <th>Worlwide_Collection</th>\n",
       "      <th>Meta_Score</th>\n",
       "      <th>Rating</th>\n",
       "      <th>Budget</th>\n",
       "    </tr>\n",
       "  </thead>\n",
       "  <tbody>\n",
       "    <tr>\n",
       "      <th>84</th>\n",
       "      <td>Toy Story 3</td>\n",
       "      <td>Tom Hanks, Tim Allen</td>\n",
       "      <td>Lee Unkrich</td>\n",
       "      <td>Walt Disney Pictures</td>\n",
       "      <td>Animation</td>\n",
       "      <td>United States, Japan</td>\n",
       "      <td>2010.0</td>\n",
       "      <td>6.0</td>\n",
       "      <td>103.0</td>\n",
       "      <td>829871.0</td>\n",
       "      <td>415004880.0</td>\n",
       "      <td>110307189.0</td>\n",
       "      <td>1066970811.0</td>\n",
       "      <td>92.0</td>\n",
       "      <td>8.3</td>\n",
       "      <td>200000000.0</td>\n",
       "    </tr>\n",
       "    <tr>\n",
       "      <th>200</th>\n",
       "      <td>How to Train Your Dragon</td>\n",
       "      <td>Jay Baruchel, Gerard Butler</td>\n",
       "      <td>Dean DeBlois</td>\n",
       "      <td>DreamWorks Animation</td>\n",
       "      <td>Animation</td>\n",
       "      <td>United States, France</td>\n",
       "      <td>2010.0</td>\n",
       "      <td>3.0</td>\n",
       "      <td>98.0</td>\n",
       "      <td>734429.0</td>\n",
       "      <td>217581231.0</td>\n",
       "      <td>43732319.0</td>\n",
       "      <td>494879471.0</td>\n",
       "      <td>75.0</td>\n",
       "      <td>8.1</td>\n",
       "      <td>165000000.0</td>\n",
       "    </tr>\n",
       "  </tbody>\n",
       "</table>\n",
       "</div>"
      ],
      "text/plain": [
       "                         Name                         Cast      Director  \\\n",
       "84                Toy Story 3         Tom Hanks, Tim Allen   Lee Unkrich   \n",
       "200  How to Train Your Dragon  Jay Baruchel, Gerard Butler  Dean DeBlois   \n",
       "\n",
       "               Production      Genre                Country   Year  Month  \\\n",
       "84   Walt Disney Pictures  Animation   United States, Japan 2010.0    6.0   \n",
       "200  DreamWorks Animation  Animation  United States, France 2010.0    3.0   \n",
       "\n",
       "     duration    Users  US_Canada_Collection  Weekend_Collection  \\\n",
       "84      103.0 829871.0           415004880.0         110307189.0   \n",
       "200      98.0 734429.0           217581231.0          43732319.0   \n",
       "\n",
       "     Worlwide_Collection  Meta_Score  Rating      Budget  \n",
       "84          1066970811.0        92.0     8.3 200000000.0  \n",
       "200          494879471.0        75.0     8.1 165000000.0  "
      ]
     },
     "execution_count": 116,
     "metadata": {},
     "output_type": "execute_result"
    }
   ],
   "source": [
    "df.iloc[np.where((df['Genre']==\"Animation\") & (df['Year']== 2010 ))]"
   ]
  },
  {
   "cell_type": "markdown",
   "metadata": {},
   "source": [
    "The movie is : \"Toy Story 3\", with budget of 200 million dollars. \n",
    "For other details of this movie, please refer above table."
   ]
  },
  {
   "cell_type": "markdown",
   "metadata": {},
   "source": [
    "# Distribution By Rating"
   ]
  },
  {
   "cell_type": "code",
   "execution_count": 191,
   "metadata": {},
   "outputs": [
    {
     "data": {
      "image/png": "[encoded data removed]",
      "text/plain": [
       "<Figure size 720x360 with 1 Axes>"
      ]
     },
     "metadata": {},
     "output_type": "display_data"
    }
   ],
   "source": [
    "# Count the occurrences of each unique rating\n",
    "rating_counts = df['Rating'].value_counts()\n",
    "\n",
    "# Sort by index (rating value)\n",
    "rating_counts = rating_counts.sort_index()\n",
    "\n",
    "# Plot the bar graph using Matplotlib\n",
    "plt.figure(figsize=(10, 5))\n",
    "bars = plt.bar(rating_counts.index.astype(str), rating_counts.values)\n",
    "plt.xlabel('Rating')\n",
    "plt.ylabel('Count')\n",
    "plt.title('Bar Graph for Ratings')\n",
    "\n",
    "# Adding the count annotations above the bars\n",
    "for bar, count in zip(bars, rating_counts.values):\n",
    "    height = bar.get_height()\n",
    "    plt.text(bar.get_x() + bar.get_width() / 2.0, height, str(count), ha='center', va='bottom')\n",
    "\n",
    "plt.show()\n"
   ]
  },
  {
   "cell_type": "markdown",
   "metadata": {},
   "source": [
    "Only 4 movies among top 250 imdb movies, got the imdb rating 9 or more , 2 got 9 and 2 got 9.2 No movie till now, got more than 9.2 rating.Lets find out these movies details."
   ]
  },
  {
   "cell_type": "code",
   "execution_count": 192,
   "metadata": {},
   "outputs": [
    {
     "data": {
      "text/html": [
       "<div>\n",
       "<style scoped>\n",
       "    .dataframe tbody tr th:only-of-type {\n",
       "        vertical-align: middle;\n",
       "    }\n",
       "\n",
       "    .dataframe tbody tr th {\n",
       "        vertical-align: top;\n",
       "    }\n",
       "\n",
       "    .dataframe thead th {\n",
       "        text-align: right;\n",
       "    }\n",
       "</style>\n",
       "<table border=\"1\" class=\"dataframe\">\n",
       "  <thead>\n",
       "    <tr style=\"text-align: right;\">\n",
       "      <th></th>\n",
       "      <th>Name</th>\n",
       "      <th>Cast</th>\n",
       "      <th>Director</th>\n",
       "      <th>Production</th>\n",
       "      <th>Genre</th>\n",
       "      <th>Country</th>\n",
       "      <th>Year</th>\n",
       "      <th>Month</th>\n",
       "      <th>duration</th>\n",
       "      <th>Users</th>\n",
       "      <th>US_Canada_Collection</th>\n",
       "      <th>Weekend_Collection</th>\n",
       "      <th>Worlwide_Collection</th>\n",
       "      <th>Meta_Score</th>\n",
       "      <th>Rating</th>\n",
       "      <th>Budget</th>\n",
       "    </tr>\n",
       "  </thead>\n",
       "  <tbody>\n",
       "    <tr>\n",
       "      <th>0</th>\n",
       "      <td>The Shawshank Redemption</td>\n",
       "      <td>Tim Robbins, Morgan Freeman</td>\n",
       "      <td>Frank Darabont</td>\n",
       "      <td>Castle Rock Entertainment</td>\n",
       "      <td>Drama</td>\n",
       "      <td>United States</td>\n",
       "      <td>1994.0</td>\n",
       "      <td>10.0</td>\n",
       "      <td>142.0</td>\n",
       "      <td>2647119.0</td>\n",
       "      <td>28767189.0</td>\n",
       "      <td>727327.0</td>\n",
       "      <td>28884504.0</td>\n",
       "      <td>81.0</td>\n",
       "      <td>9.2</td>\n",
       "      <td>25000000.0</td>\n",
       "    </tr>\n",
       "    <tr>\n",
       "      <th>1</th>\n",
       "      <td>The Godfather</td>\n",
       "      <td>Marlon Brando, Al Pacino</td>\n",
       "      <td>Francis Ford Coppola</td>\n",
       "      <td>Paramount Pictures</td>\n",
       "      <td>Crime</td>\n",
       "      <td>United States</td>\n",
       "      <td>1972.0</td>\n",
       "      <td>3.0</td>\n",
       "      <td>175.0</td>\n",
       "      <td>1834912.0</td>\n",
       "      <td>136381073.0</td>\n",
       "      <td>302393.0</td>\n",
       "      <td>250341816.0</td>\n",
       "      <td>100.0</td>\n",
       "      <td>9.2</td>\n",
       "      <td>6000000.0</td>\n",
       "    </tr>\n",
       "    <tr>\n",
       "      <th>2</th>\n",
       "      <td>The Dark Knight</td>\n",
       "      <td>Christian Bale, Heath Ledger</td>\n",
       "      <td>Christopher Nolan</td>\n",
       "      <td>Warner Bros.</td>\n",
       "      <td>Action</td>\n",
       "      <td>United States, United Kingdom</td>\n",
       "      <td>2008.0</td>\n",
       "      <td>7.0</td>\n",
       "      <td>152.0</td>\n",
       "      <td>2619064.0</td>\n",
       "      <td>534987076.0</td>\n",
       "      <td>158411483.0</td>\n",
       "      <td>1006234167.0</td>\n",
       "      <td>84.0</td>\n",
       "      <td>9.0</td>\n",
       "      <td>185000000.0</td>\n",
       "    </tr>\n",
       "    <tr>\n",
       "      <th>3</th>\n",
       "      <td>The Godfather Part II</td>\n",
       "      <td>Al Pacino, Robert De Niro</td>\n",
       "      <td>Francis Ford Coppola</td>\n",
       "      <td>Paramount Pictures</td>\n",
       "      <td>Crime</td>\n",
       "      <td>United States</td>\n",
       "      <td>1974.0</td>\n",
       "      <td>12.0</td>\n",
       "      <td>202.0</td>\n",
       "      <td>1257549.0</td>\n",
       "      <td>47834595.0</td>\n",
       "      <td>171417.0</td>\n",
       "      <td>47961919.0</td>\n",
       "      <td>90.0</td>\n",
       "      <td>9.0</td>\n",
       "      <td>13000000.0</td>\n",
       "    </tr>\n",
       "  </tbody>\n",
       "</table>\n",
       "</div>"
      ],
      "text/plain": [
       "                       Name                          Cast  \\\n",
       "0  The Shawshank Redemption   Tim Robbins, Morgan Freeman   \n",
       "1             The Godfather      Marlon Brando, Al Pacino   \n",
       "2           The Dark Knight  Christian Bale, Heath Ledger   \n",
       "3     The Godfather Part II     Al Pacino, Robert De Niro   \n",
       "\n",
       "               Director                 Production   Genre  \\\n",
       "0        Frank Darabont  Castle Rock Entertainment   Drama   \n",
       "1  Francis Ford Coppola         Paramount Pictures   Crime   \n",
       "2     Christopher Nolan               Warner Bros.  Action   \n",
       "3  Francis Ford Coppola         Paramount Pictures   Crime   \n",
       "\n",
       "                         Country   Year  Month  duration     Users  \\\n",
       "0                  United States 1994.0   10.0     142.0 2647119.0   \n",
       "1                  United States 1972.0    3.0     175.0 1834912.0   \n",
       "2  United States, United Kingdom 2008.0    7.0     152.0 2619064.0   \n",
       "3                  United States 1974.0   12.0     202.0 1257549.0   \n",
       "\n",
       "   US_Canada_Collection  Weekend_Collection  Worlwide_Collection  Meta_Score  \\\n",
       "0            28767189.0            727327.0           28884504.0        81.0   \n",
       "1           136381073.0            302393.0          250341816.0       100.0   \n",
       "2           534987076.0         158411483.0         1006234167.0        84.0   \n",
       "3            47834595.0            171417.0           47961919.0        90.0   \n",
       "\n",
       "   Rating      Budget  \n",
       "0     9.2  25000000.0  \n",
       "1     9.2   6000000.0  \n",
       "2     9.0 185000000.0  \n",
       "3     9.0  13000000.0  "
      ]
     },
     "execution_count": 192,
     "metadata": {},
     "output_type": "execute_result"
    }
   ],
   "source": [
    "df.iloc[np.where(df['Rating']>=9)]"
   ]
  },
  {
   "cell_type": "markdown",
   "metadata": {},
   "source": [
    "# Distribution By Month"
   ]
  },
  {
   "cell_type": "code",
   "execution_count": 199,
   "metadata": {},
   "outputs": [
    {
     "data": {
      "image/png": "[encoded data removed]",
      "text/plain": [
       "<Figure size 1080x648 with 1 Axes>"
      ]
     },
     "metadata": {},
     "output_type": "display_data"
    }
   ],
   "source": [
    "\n",
    "# Count the occurrences of each unique month\n",
    "month_counts = df['Month'].value_counts()\n",
    "\n",
    "# Sort by index (month)\n",
    "month_counts = month_counts.sort_index()\n",
    "\n",
    "# Map of month numbers to abbreviated names\n",
    "month_names = ['Jan', 'Feb', 'Mar', 'Apr', 'May', 'Jun', 'Jul', 'Aug', 'Sep', 'Oct', 'Nov', 'Dec']\n",
    "\n",
    "# Convert month numbers to abbreviated names (ensure month is an integer)\n",
    "month_labels = [month_names[int(month) - 1] for month in month_counts.index]\n",
    "\n",
    "# Plot the bar graph using Matplotlib\n",
    "plt.figure(figsize=(15, 9))\n",
    "bars = plt.bar(month_labels, month_counts.values)\n",
    "plt.xlabel('Month')\n",
    "plt.ylabel('Total Movies released')\n",
    "plt.title('Distribution By Months')\n",
    "\n",
    "# Rotate x labels vertically\n",
    "plt.xticks(rotation='vertical')\n",
    "\n",
    "# Adding the count annotations above the bars\n",
    "for bar, count in zip(bars, month_counts.values):\n",
    "    height = bar.get_height()\n",
    "    plt.text(bar.get_x() + bar.get_width() / 2.0, height, str(count), ha='center', va='bottom')\n",
    "\n",
    "plt.show()"
   ]
  },
  {
   "cell_type": "markdown",
   "metadata": {},
   "source": [
    "Most of the top movies released in December. 33 out of 250, i.e around 13 percent of the movies released in month of december."
   ]
  },
  {
   "cell_type": "markdown",
   "metadata": {},
   "source": [
    "# Budget and Worldwide Collection for Drama Movies"
   ]
  },
  {
   "cell_type": "code",
   "execution_count": 203,
   "metadata": {},
   "outputs": [
    {
     "data": {
      "image/png": "[encoded data removed]",
      "text/plain": [
       "<Figure size 720x360 with 1 Axes>"
      ]
     },
     "metadata": {},
     "output_type": "display_data"
    }
   ],
   "source": [
    "# Group by genre and sum the worldwide collections\n",
    "genre_collections = df.groupby('Genre')['Worlwide_Collection'].sum()\n",
    "\n",
    "# Convert to billions\n",
    "genre_collections = genre_collections / 10**9\n",
    "\n",
    "# Plot the bar chart using Matplotlib\n",
    "plt.figure(figsize=(10, 5))\n",
    "bars = plt.bar(genre_collections.index, genre_collections.values)\n",
    "plt.xlabel('Genre')\n",
    "plt.ylabel('Total Worldwide Collection (in billions)')\n",
    "plt.title('Worldwide Collection for All Genres')\n",
    "\n",
    "# Adding the collection amounts annotations above the bars\n",
    "for bar, amount in zip(bars, genre_collections.values):\n",
    "    height = bar.get_height()\n",
    "    plt.text(bar.get_x() + bar.get_width() / 2.0, height, '{:.2f}'.format(amount), ha='center', va='bottom')\n",
    "\n",
    "plt.xticks(rotation=45)  # Optional: Rotate x-axis labels for better readability\n",
    "\n",
    "plt.show()\n"
   ]
  },
  {
   "cell_type": "markdown",
   "metadata": {},
   "source": [
    "1-In total among top 250 imdb movies, 68 were drama movies produced with the total budget of around 906 millions dollars and  the world wide collection for these drama movies in genral is  6.45 billions dollar.\n"
   ]
  },
  {
   "cell_type": "markdown",
   "metadata": {},
   "source": [
    "let's find that which drama movies did not earn and floped commercially."
   ]
  },
  {
   "cell_type": "code",
   "execution_count": 219,
   "metadata": {},
   "outputs": [],
   "source": [
    "df_new= df.loc[np.where(df['Genre']=='Drama')]\n",
    "df_new =df_new[[\"Name\", \"Budget\", \"Worlwide_Collection\" ]]"
   ]
  },
  {
   "cell_type": "markdown",
   "metadata": {},
   "source": [
    "The drama movies below were not commercially successful"
   ]
  },
  {
   "cell_type": "code",
   "execution_count": 220,
   "metadata": {},
   "outputs": [
    {
     "data": {
      "text/html": [
       "<div>\n",
       "<style scoped>\n",
       "    .dataframe tbody tr th:only-of-type {\n",
       "        vertical-align: middle;\n",
       "    }\n",
       "\n",
       "    .dataframe tbody tr th {\n",
       "        vertical-align: top;\n",
       "    }\n",
       "\n",
       "    .dataframe thead th {\n",
       "        text-align: right;\n",
       "    }\n",
       "</style>\n",
       "<table border=\"1\" class=\"dataframe\">\n",
       "  <thead>\n",
       "    <tr style=\"text-align: right;\">\n",
       "      <th></th>\n",
       "      <th>Name</th>\n",
       "      <th>Budget</th>\n",
       "      <th>Worlwide_Collection</th>\n",
       "    </tr>\n",
       "  </thead>\n",
       "  <tbody>\n",
       "    <tr>\n",
       "      <th>58</th>\n",
       "      <td>Sunset Blvd.</td>\n",
       "      <td>1752000.0</td>\n",
       "      <td>300073.0</td>\n",
       "    </tr>\n",
       "    <tr>\n",
       "      <th>59</th>\n",
       "      <td>Paths of Glory</td>\n",
       "      <td>935000.0</td>\n",
       "      <td>5252.0</td>\n",
       "    </tr>\n",
       "    <tr>\n",
       "      <th>77</th>\n",
       "      <td>The Boat</td>\n",
       "      <td>14528000.0</td>\n",
       "      <td>11487676.0</td>\n",
       "    </tr>\n",
       "    <tr>\n",
       "      <th>105</th>\n",
       "      <td>Ikiru</td>\n",
       "      <td>775000.0</td>\n",
       "      <td>96302.0</td>\n",
       "    </tr>\n",
       "    <tr>\n",
       "      <th>113</th>\n",
       "      <td>Incendies</td>\n",
       "      <td>6800000.0</td>\n",
       "      <td>6788659.0</td>\n",
       "    </tr>\n",
       "    <tr>\n",
       "      <th>115</th>\n",
       "      <td>Metropolis</td>\n",
       "      <td>2724000.0</td>\n",
       "      <td>1349711.0</td>\n",
       "    </tr>\n",
       "    <tr>\n",
       "      <th>129</th>\n",
       "      <td>All About Eve</td>\n",
       "      <td>1400000.0</td>\n",
       "      <td>151052.0</td>\n",
       "    </tr>\n",
       "    <tr>\n",
       "      <th>133</th>\n",
       "      <td>Judgment at Nuremberg</td>\n",
       "      <td>3000000.0</td>\n",
       "      <td>12180.0</td>\n",
       "    </tr>\n",
       "    <tr>\n",
       "      <th>181</th>\n",
       "      <td>Wild Strawberries</td>\n",
       "      <td>562500.0</td>\n",
       "      <td>60418.0</td>\n",
       "    </tr>\n",
       "    <tr>\n",
       "      <th>205</th>\n",
       "      <td>Tokyo Story</td>\n",
       "      <td>1875000.0</td>\n",
       "      <td>37880.0</td>\n",
       "    </tr>\n",
       "    <tr>\n",
       "      <th>213</th>\n",
       "      <td>Pather Panchali</td>\n",
       "      <td>775000.0</td>\n",
       "      <td>135342.0</td>\n",
       "    </tr>\n",
       "    <tr>\n",
       "      <th>231</th>\n",
       "      <td>Rebecca</td>\n",
       "      <td>1288000.0</td>\n",
       "      <td>72275.0</td>\n",
       "    </tr>\n",
       "    <tr>\n",
       "      <th>240</th>\n",
       "      <td>Persona</td>\n",
       "      <td>806500.0</td>\n",
       "      <td>90556.0</td>\n",
       "    </tr>\n",
       "  </tbody>\n",
       "</table>\n",
       "</div>"
      ],
      "text/plain": [
       "                      Name     Budget  Worlwide_Collection\n",
       "58            Sunset Blvd.  1752000.0             300073.0\n",
       "59          Paths of Glory   935000.0               5252.0\n",
       "77                The Boat 14528000.0           11487676.0\n",
       "105                  Ikiru   775000.0              96302.0\n",
       "113              Incendies  6800000.0            6788659.0\n",
       "115             Metropolis  2724000.0            1349711.0\n",
       "129          All About Eve  1400000.0             151052.0\n",
       "133  Judgment at Nuremberg  3000000.0              12180.0\n",
       "181      Wild Strawberries   562500.0              60418.0\n",
       "205            Tokyo Story  1875000.0              37880.0\n",
       "213        Pather Panchali   775000.0             135342.0\n",
       "231                Rebecca  1288000.0              72275.0\n",
       "240                Persona   806500.0              90556.0"
      ]
     },
     "execution_count": 220,
     "metadata": {},
     "output_type": "execute_result"
    }
   ],
   "source": [
    "df_new =df_new.iloc[np.where(df_new['Worlwide_Collection'] < df_new['Budget'])]\n",
    "df_new"
   ]
  },
  {
   "cell_type": "code",
   "execution_count": 221,
   "metadata": {},
   "outputs": [],
   "source": [
    "# loss in millions\n",
    "\n",
    "df_new['Total_Loss'] = (df_new['Budget'] - df_new['Worlwide_Collection']) / 10**6\n"
   ]
  },
  {
   "cell_type": "code",
   "execution_count": 222,
   "metadata": {},
   "outputs": [
    {
     "data": {
      "text/html": [
       "<div>\n",
       "<style scoped>\n",
       "    .dataframe tbody tr th:only-of-type {\n",
       "        vertical-align: middle;\n",
       "    }\n",
       "\n",
       "    .dataframe tbody tr th {\n",
       "        vertical-align: top;\n",
       "    }\n",
       "\n",
       "    .dataframe thead th {\n",
       "        text-align: right;\n",
       "    }\n",
       "</style>\n",
       "<table border=\"1\" class=\"dataframe\">\n",
       "  <thead>\n",
       "    <tr style=\"text-align: right;\">\n",
       "      <th></th>\n",
       "      <th>Name</th>\n",
       "      <th>Budget</th>\n",
       "      <th>Worlwide_Collection</th>\n",
       "      <th>Total_Loss</th>\n",
       "    </tr>\n",
       "  </thead>\n",
       "  <tbody>\n",
       "    <tr>\n",
       "      <th>58</th>\n",
       "      <td>Sunset Blvd.</td>\n",
       "      <td>1752000.0</td>\n",
       "      <td>300073.0</td>\n",
       "      <td>1.5</td>\n",
       "    </tr>\n",
       "    <tr>\n",
       "      <th>59</th>\n",
       "      <td>Paths of Glory</td>\n",
       "      <td>935000.0</td>\n",
       "      <td>5252.0</td>\n",
       "      <td>0.9</td>\n",
       "    </tr>\n",
       "    <tr>\n",
       "      <th>77</th>\n",
       "      <td>The Boat</td>\n",
       "      <td>14528000.0</td>\n",
       "      <td>11487676.0</td>\n",
       "      <td>3.0</td>\n",
       "    </tr>\n",
       "    <tr>\n",
       "      <th>105</th>\n",
       "      <td>Ikiru</td>\n",
       "      <td>775000.0</td>\n",
       "      <td>96302.0</td>\n",
       "      <td>0.7</td>\n",
       "    </tr>\n",
       "    <tr>\n",
       "      <th>113</th>\n",
       "      <td>Incendies</td>\n",
       "      <td>6800000.0</td>\n",
       "      <td>6788659.0</td>\n",
       "      <td>0.0</td>\n",
       "    </tr>\n",
       "    <tr>\n",
       "      <th>115</th>\n",
       "      <td>Metropolis</td>\n",
       "      <td>2724000.0</td>\n",
       "      <td>1349711.0</td>\n",
       "      <td>1.4</td>\n",
       "    </tr>\n",
       "    <tr>\n",
       "      <th>129</th>\n",
       "      <td>All About Eve</td>\n",
       "      <td>1400000.0</td>\n",
       "      <td>151052.0</td>\n",
       "      <td>1.2</td>\n",
       "    </tr>\n",
       "    <tr>\n",
       "      <th>133</th>\n",
       "      <td>Judgment at Nuremberg</td>\n",
       "      <td>3000000.0</td>\n",
       "      <td>12180.0</td>\n",
       "      <td>3.0</td>\n",
       "    </tr>\n",
       "    <tr>\n",
       "      <th>181</th>\n",
       "      <td>Wild Strawberries</td>\n",
       "      <td>562500.0</td>\n",
       "      <td>60418.0</td>\n",
       "      <td>0.5</td>\n",
       "    </tr>\n",
       "    <tr>\n",
       "      <th>205</th>\n",
       "      <td>Tokyo Story</td>\n",
       "      <td>1875000.0</td>\n",
       "      <td>37880.0</td>\n",
       "      <td>1.8</td>\n",
       "    </tr>\n",
       "    <tr>\n",
       "      <th>213</th>\n",
       "      <td>Pather Panchali</td>\n",
       "      <td>775000.0</td>\n",
       "      <td>135342.0</td>\n",
       "      <td>0.6</td>\n",
       "    </tr>\n",
       "    <tr>\n",
       "      <th>231</th>\n",
       "      <td>Rebecca</td>\n",
       "      <td>1288000.0</td>\n",
       "      <td>72275.0</td>\n",
       "      <td>1.2</td>\n",
       "    </tr>\n",
       "    <tr>\n",
       "      <th>240</th>\n",
       "      <td>Persona</td>\n",
       "      <td>806500.0</td>\n",
       "      <td>90556.0</td>\n",
       "      <td>0.7</td>\n",
       "    </tr>\n",
       "  </tbody>\n",
       "</table>\n",
       "</div>"
      ],
      "text/plain": [
       "                      Name     Budget  Worlwide_Collection  Total_Loss\n",
       "58            Sunset Blvd.  1752000.0             300073.0         1.5\n",
       "59          Paths of Glory   935000.0               5252.0         0.9\n",
       "77                The Boat 14528000.0           11487676.0         3.0\n",
       "105                  Ikiru   775000.0              96302.0         0.7\n",
       "113              Incendies  6800000.0            6788659.0         0.0\n",
       "115             Metropolis  2724000.0            1349711.0         1.4\n",
       "129          All About Eve  1400000.0             151052.0         1.2\n",
       "133  Judgment at Nuremberg  3000000.0              12180.0         3.0\n",
       "181      Wild Strawberries   562500.0              60418.0         0.5\n",
       "205            Tokyo Story  1875000.0              37880.0         1.8\n",
       "213        Pather Panchali   775000.0             135342.0         0.6\n",
       "231                Rebecca  1288000.0              72275.0         1.2\n",
       "240                Persona   806500.0              90556.0         0.7"
      ]
     },
     "execution_count": 222,
     "metadata": {},
     "output_type": "execute_result"
    }
   ],
   "source": [
    "df_new"
   ]
  },
  {
   "cell_type": "markdown",
   "metadata": {},
   "source": [
    "The drama movie which faced the highest loss among all the drama movies is \"The BOAT\",and \"Judgment at Nuremberg\" with a loss of  approx 2 millions dollars."
   ]
  }
 ],
 "metadata": {
  "kernelspec": {
   "display_name": "Python 3",
   "language": "python",
   "name": "python3"
  },
  "language_info": {
   "codemirror_mode": {
    "name": "ipython",
    "version": 3
   },
   "file_extension": ".py",
   "mimetype": "text/x-python",
   "name": "python",
   "nbconvert_exporter": "python",
   "pygments_lexer": "ipython3",
   "version": "3.8.5"
  }
 },
 "nbformat": 4,
 "nbformat_minor": 4
}
